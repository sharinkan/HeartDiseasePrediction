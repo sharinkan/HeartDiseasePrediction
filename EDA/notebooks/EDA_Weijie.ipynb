{
 "cells": [
  {
   "cell_type": "code",
   "execution_count": 1,
   "metadata": {},
   "outputs": [],
   "source": [
    "# Imports\n",
    "\n",
    "import torchaudio\n",
    "import numpy as np\n",
    "from matplotlib import pyplot as plt\n",
    "import librosa\n",
    "import os, sys\n",
    "import pandas as pd\n",
    "\n",
    "import re"
   ]
  },
  {
   "cell_type": "code",
   "execution_count": 2,
   "metadata": {},
   "outputs": [],
   "source": [
    "from pathlib import Path\n",
    "from glob import glob\n",
    "from typing import Literal\n",
    "# Files\n",
    "ASSET_FOLDER = Path(\"..\") / \"..\" / \"assets\"\n",
    "# using indexing so I dont have to specify the folder name\n",
    "DATASET_FOLDER = Path(glob(str(ASSET_FOLDER / \"*dataset*\"))[0]) \n",
    "TRAINING_DATA_FOLDER = DATASET_FOLDER / \"training_data\"\n",
    "file = TRAINING_DATA_FOLDER  / \"2530_AV.wav\"\n",
    "\n",
    "assert file.is_file() , f\"File does not exist {file}\""
   ]
  },
  {
   "cell_type": "markdown",
   "metadata": {},
   "source": [
    "# Task\n",
    "\n",
    "\n",
    "### For Exploratory Data Analysis (EDA), you can do the followings:\n",
    "\n",
    "\n",
    "- Plot the audio wave-form for couple of subjects\n",
    "\n",
    "- How many age groups do we have in the dataset? How many unique type of disease do exist?\n",
    "\n",
    "- How many types of channels do we have? Which one is common among all measurements? \n",
    "\n",
    "- Obtain the percentage of each channel across all recordings.\n",
    "\n",
    "- Obtain the correlation among different channels for a few subjects from different age groups\n",
    "\n",
    "- Explore Short-Time-Frequency-Transform (STFT) and Mel Spectrogram: https://medium.com/analytics-vidhya/understanding-the-mel-spectrogram-fca2afa2ce53. Apply these two transformations for some subjects\n",
    "\n",
    "\n",
    "\n",
    "\n",
    "### Descriptive Statistics:\n",
    "\n",
    "###### Calculate mean, median, and standard deviation of age and recording duration.\n",
    "\n",
    "\n",
    "- Visualization: \n",
    "    - Create histograms and box plots for age and recording duration.\n",
    "\n",
    "- Cardiac Murmurs Analysis:\n",
    "    - Distribution across age groups and auscultation locations.\n",
    "\n",
    "- Annotations Analysis:\n",
    "    - Explore timing, shape, pitch, grading, quality, and location of murmurs.\n",
    "\n",
    "- Segmentation Annotations:\n",
    "    - Analyze consensus and mismatches between algorithms and human annotations.\n",
    "    \n",
    "- Correlation Analysis:\n",
    "    - Study correlations between different annotation types and age groups."
   ]
  },
  {
   "cell_type": "markdown",
   "metadata": {},
   "source": [
    "## Section below is for descriptive statistics"
   ]
  },
  {
   "cell_type": "code",
   "execution_count": 3,
   "metadata": {},
   "outputs": [],
   "source": [
    "import csv\n",
    "from collections import Counter"
   ]
  },
  {
   "cell_type": "code",
   "execution_count": 4,
   "metadata": {},
   "outputs": [],
   "source": [
    "metadata = {}\n",
    "with open(DATASET_FOLDER / \"training_data.csv\", \"r\") as f:\n",
    "    csvreader = csv.DictReader(f)\n",
    "    \n",
    "    for row in csvreader:\n",
    "        for key, value in row.items():\n",
    "            if key not in metadata:\n",
    "                metadata[key] = []\n",
    "            metadata[key].append(value)\n"
   ]
  },
  {
   "cell_type": "markdown",
   "metadata": {},
   "source": [
    "- Patient ID\n",
    "- Recording locations:\n",
    "- Age\n",
    "- Sex\n",
    "- Height\n",
    "- Weight\n",
    "- Pregnancy status\n",
    "- Murmur\n",
    "- Murmur locations\n",
    "- Most audible location\n",
    "- Systolic murmur timing\n",
    "- Systolic murmur shape\n",
    "- Systolic murmur grading\n",
    "- Systolic murmur pitch\n",
    "- Systolic murmur quality\n",
    "- Diastolic murmur timing\n",
    "- Diastolic murmur shape\n",
    "- Diastolic murmur grading\n",
    "- Diastolic murmur pitch\n",
    "- Diastolic murmur quality\n",
    "- Outcome\n",
    "- Campaign\n",
    "- Additional ID"
   ]
  },
  {
   "cell_type": "code",
   "execution_count": 5,
   "metadata": {},
   "outputs": [
    {
     "data": {
      "text/plain": [
       "Counter({'nan': 763, 'TV': 56, 'PV': 62, 'MV': 42, 'AV': 19})"
      ]
     },
     "execution_count": 5,
     "metadata": {},
     "output_type": "execute_result"
    }
   ],
   "source": [
    "Counter(metadata[\"Most audible location\"])"
   ]
  },
  {
   "cell_type": "code",
   "execution_count": 6,
   "metadata": {},
   "outputs": [],
   "source": [
    "age_groups = Counter(metadata[\"Age\"])"
   ]
  },
  {
   "cell_type": "code",
   "execution_count": 7,
   "metadata": {},
   "outputs": [
    {
     "data": {
      "text/plain": [
       "Counter({'Child': 664,\n",
       "         'Adolescent': 72,\n",
       "         'Infant': 126,\n",
       "         'nan': 74,\n",
       "         'Neonate': 6})"
      ]
     },
     "execution_count": 7,
     "metadata": {},
     "output_type": "execute_result"
    }
   ],
   "source": [
    "# Data from : https://physionet.org/content/circor-heart-sound/1.0.3/\n",
    "\n",
    "\"\"\"\n",
    "Neonate: birth to 27 DAYS old\n",
    "Infant: 28 DAYS old to 1 YEAR old\n",
    "Child: 1 to 11 YEARS old\n",
    "Adolescent: 12 to 18 YEARS old\n",
    "Young Adult: 19 to 21 YEARS old\n",
    "\"\"\"\n",
    "\n",
    "\"\"\"\n",
    "A total number of 5272 heart sound recordings were \n",
    "\n",
    "collected from the main four auscultation locations\n",
    "\n",
    "1568 subjects\n",
    "\n",
    "aged     between 0 and 21 years (mean ± STD = 6.1 ± 4.3 years), \n",
    "duration between 4.8 to 80.4 seconds (mean ± STD = 22.9 ± 7.4 s), \n",
    "\"\"\"\n",
    "\n",
    "age_groups"
   ]
  },
  {
   "cell_type": "code",
   "execution_count": 8,
   "metadata": {},
   "outputs": [
    {
     "data": {
      "image/png": "[encoded data removed]",
      "text/plain": [
       "<Figure size 800x480 with 1 Axes>"
      ]
     },
     "metadata": {
      "needs_background": "light"
     },
     "output_type": "display_data"
    }
   ],
   "source": [
    "import matplotlib.pyplot as plt\n",
    "import numpy as np\n",
    "\n",
    "def create_histogram(data : list, title='', x_label=''):\n",
    "    plt.figure(figsize=(10, 6), dpi=80)\n",
    "    \n",
    "    plt.hist(data,edgecolor=\"black\")\n",
    "    \n",
    "    plt.title(title)\n",
    "    plt.xlabel(x_label)\n",
    "    plt.show()\n",
    "\n",
    "\n",
    "\n",
    "create_histogram(\n",
    "    metadata[\"Age\"],\n",
    "    \"Age distribution\",\n",
    "    \"Age\",\n",
    ")\n",
    "\n",
    "# create_histogram(\n",
    "#     list(data_original[\"Age\"]),\n",
    "#     \"Age distribution\",\n",
    "#     \"Age\",\n",
    "# )\n",
    "\n"
   ]
  },
  {
   "cell_type": "code",
   "execution_count": 9,
   "metadata": {},
   "outputs": [],
   "source": [
    "# Recording duration data\n",
    "\n",
    "files = glob(str(TRAINING_DATA_FOLDER / \"*\"))"
   ]
  },
  {
   "cell_type": "code",
   "execution_count": 10,
   "metadata": {},
   "outputs": [
    {
     "name": "stdout",
     "output_type": "stream",
     "text": [
      "{'.wav', '.hea', '.tsv', '.txt'}\n"
     ]
    }
   ],
   "source": [
    "exts = [os.path.splitext(file)[1] for file in files]\n",
    "print(set(exts))"
   ]
  },
  {
   "cell_type": "code",
   "execution_count": 11,
   "metadata": {},
   "outputs": [],
   "source": [
    "channels = [os.path.basename(file).split(\".\")[0] for file in files if file[-3:] == \"wav\" ]\n",
    "channels = [match for item in channels for match in re.findall(r'[A-Za-z]+', item)]"
   ]
  },
  {
   "cell_type": "code",
   "execution_count": 12,
   "metadata": {},
   "outputs": [],
   "source": [
    "import itertools"
   ]
  },
  {
   "cell_type": "code",
   "execution_count": 13,
   "metadata": {},
   "outputs": [
    {
     "ename": "NameError",
     "evalue": "name 'data_original' is not defined",
     "output_type": "error",
     "traceback": [
      "\u001b[0;31m---------------------------------------------------------------------------\u001b[0m",
      "\u001b[0;31mNameError\u001b[0m                                 Traceback (most recent call last)",
      "\u001b[0;32m<ipython-input-13-24603380f646>\u001b[0m in \u001b[0;36m<module>\u001b[0;34m\u001b[0m\n\u001b[0;32m----> 1\u001b[0;31m \u001b[0mlist\u001b[0m\u001b[0;34m(\u001b[0m\u001b[0mitertools\u001b[0m\u001b[0;34m.\u001b[0m\u001b[0mchain\u001b[0m\u001b[0;34m(\u001b[0m\u001b[0;34m*\u001b[0m\u001b[0;34m[\u001b[0m \u001b[0mchannels\u001b[0m\u001b[0;34m.\u001b[0m\u001b[0msplit\u001b[0m\u001b[0;34m(\u001b[0m\u001b[0;34m\"+\"\u001b[0m\u001b[0;34m)\u001b[0m \u001b[0;32mfor\u001b[0m \u001b[0mchannels\u001b[0m \u001b[0;32min\u001b[0m \u001b[0mlist\u001b[0m\u001b[0;34m(\u001b[0m\u001b[0mdata_original\u001b[0m\u001b[0;34m[\u001b[0m\u001b[0;34m\"Recording locations:\"\u001b[0m\u001b[0;34m]\u001b[0m\u001b[0;34m)\u001b[0m\u001b[0;34m]\u001b[0m\u001b[0;34m)\u001b[0m\u001b[0;34m)\u001b[0m\u001b[0;34m\u001b[0m\u001b[0;34m\u001b[0m\u001b[0m\n\u001b[0m",
      "\u001b[0;31mNameError\u001b[0m: name 'data_original' is not defined"
     ]
    }
   ],
   "source": [
    "list(itertools.chain(*[ channels.split(\"+\") for channels in list(data_original[\"Recording locations:\"])]))"
   ]
  },
  {
   "cell_type": "code",
   "execution_count": null,
   "metadata": {},
   "outputs": [],
   "source": [
    "create_histogram(\n",
    "    list(itertools.chain(*[ channels.split(\"+\") for channels in list(data_original[\"Recording locations:\"])])),\n",
    "    \"Channel distribution\",\n",
    "    \"Channel\",\n",
    ")"
   ]
  },
  {
   "cell_type": "code",
   "execution_count": null,
   "metadata": {},
   "outputs": [],
   "source": [
    "# Duration Distrubution on time\n",
    "from pydub import AudioSegment\n",
    "from tqdm import tqdm\n",
    "import wfdb\n",
    "\n",
    "def channels_iterator(folder : Path, channel : Literal[\"AV\",\"TV\",\"MV\",\"PV\",\"Phc\"], ext : Literal[\".txt\",\".wav\"]):\n",
    "    return iter(glob( str(folder / f\"*{channel}*{ext}\") ))\n",
    "\n",
    "def get_audio_info(audio_file_path : str):\n",
    "    try:\n",
    "        audio = AudioSegment.from_file(audio_file_path)\n",
    "        duration_in_seconds = len(audio) / 1000.0  # Convert to seconds\n",
    "        sample_rate = audio.frame_rate\n",
    "\n",
    "        return duration_in_seconds, sample_rate\n",
    "\n",
    "    except Exception as e:\n",
    "        print(f\"Error: {e}\")\n",
    "        raise e\n",
    "    \n",
    "def get_hea_info(hea_file):\n",
    "    record = wfdb.rdheader(hea_file[:-4])\n",
    "    duration = record.sig_len / record.fs  # Calculate duration in seconds\n",
    "    sample_rate = record.fs\n",
    "    return duration, sample_rate"
   ]
  },
  {
   "cell_type": "code",
   "execution_count": null,
   "metadata": {},
   "outputs": [],
   "source": [
    "my_channels"
   ]
  },
  {
   "cell_type": "markdown",
   "metadata": {},
   "source": [
    "# Checking header data is accurate\n",
    "- By comparing graph from header data and actual audio file\n",
    "- Compare each channel, TV, PV, AV,MV, Phc\n",
    "\n",
    "### Box plot with stats on duration of audio files"
   ]
  },
  {
   "cell_type": "code",
   "execution_count": null,
   "metadata": {
    "scrolled": false
   },
   "outputs": [],
   "source": [
    "box_plot_durations = []\n",
    "for channel in ['Phc', 'AV', 'PV', 'MV', 'TV']:\n",
    "    \n",
    "#     durations = []\n",
    "    # 2 checking, \n",
    "    # one is on the wav files -> audio\n",
    "#     for file in tqdm(channels_iterator(TRAINING_DATA_FOLDER, channel, \".wav\")):\n",
    "#         secs, samp_rate = get_audio_info(file)\n",
    "#         durations.append(secs)\n",
    "        \n",
    "#     mean, std = np.mean(durations), np.std(durations)\n",
    "        \n",
    "#     create_histogram(\n",
    "#         durations,\n",
    "#         f\"Channel distribution (WAV) : {channel} - Mean : {mean}, std : {std}\",\n",
    "#         f\"Duration (s)\",\n",
    "#     )\n",
    "#     box_plot_durations.append(durations)\n",
    "#     continue # Remove this line to see graph from header file\n",
    "    \n",
    "    \n",
    "    durations = []\n",
    "    # second is hea file check -> header detail\n",
    "    for file in tqdm(channels_iterator(TRAINING_DATA_FOLDER, channel, \".hea\")):\n",
    "        secs, samp_rate = get_hea_info(file)\n",
    "        durations.append(secs)\n",
    "        \n",
    "    mean, std = np.mean(durations), np.std(durations)\n",
    "        \n",
    "    create_histogram(\n",
    "        durations,\n",
    "        f\"Channel distribution (HEA) : {channel} - Mean : {mean}, std : {std}\",\n",
    "        f\"Duration (s)\",\n",
    "    )\n",
    "    \n",
    "    \n",
    "    \n",
    "plt.boxplot(box_plot_durations, labels = my_channels)\n",
    "plt.title('Box Plot for each channel duration')\n",
    "plt.xlabel('Channels')\n",
    "plt.ylabel('Time (s)')\n",
    "\n",
    "plt.show()\n",
    "    \n",
    "        \n",
    "    \n",
    "        \n",
    "        \n",
    "        "
   ]
  },
  {
   "cell_type": "code",
   "execution_count": null,
   "metadata": {},
   "outputs": [],
   "source": [
    "# For each age group check murmur exist, unknow, not exist\n"
   ]
  },
  {
   "cell_type": "code",
   "execution_count": null,
   "metadata": {},
   "outputs": [],
   "source": [
    "# Annotations Analysis:\n",
    "\n",
    "# Explore timing, shape, pitch, grading, quality, and location of murmurs.\n",
    "\n",
    "\n",
    "\n",
    "data_original = pd.read_csv(DATASET_FOLDER / \"training_data.csv\")\n"
   ]
  },
  {
   "cell_type": "code",
   "execution_count": null,
   "metadata": {},
   "outputs": [],
   "source": [
    "set(list(data_original['Diastolic murmur timing']))"
   ]
  },
  {
   "cell_type": "code",
   "execution_count": null,
   "metadata": {},
   "outputs": [],
   "source": [
    "list(data_original[\"Height\"])"
   ]
  },
  {
   "cell_type": "code",
   "execution_count": null,
   "metadata": {},
   "outputs": [],
   "source": [
    "skip = ['Patient ID','Additional ID','Campaign', 'Height', 'Weight']\n",
    "\n",
    "for key in data_original.keys():\n",
    "    if key in skip:\n",
    "        continue\n",
    "    \n",
    "    print(f\"{key} : {set(list(data_original[key]))}\")"
   ]
  },
  {
   "cell_type": "code",
   "execution_count": null,
   "metadata": {},
   "outputs": [],
   "source": []
  },
  {
   "cell_type": "markdown",
   "metadata": {},
   "source": [
    "# correlation map\n",
    "\n",
    "- Age is mapped based on mean of the age group label\n",
    "\n",
    "#### Result :\n",
    "- Age appears to show no/very little correlation with the result \n",
    "- **Systolic murmur** appears to have around ~0.35 value in correlation with **Diastolic murmur**\n",
    "- **Systolic murmur** has a higer (~0.5) value in correlation with positive result\n",
    "- **Diastolic murmur** have around ~0.15 with positive result"
   ]
  },
  {
   "cell_type": "code",
   "execution_count": null,
   "metadata": {},
   "outputs": [],
   "source": [
    "data = data_original.copy(deep=True)\n",
    "\n",
    "\n",
    "# As for now , height and weight is not included for the reason of age group & sex\n",
    "mappings = {\n",
    "    \"Age\" : {'Adolescent' : (18+12)/2, np.nan : 6.1, 'Neonate' : (27+0)/(2*365),\n",
    "             'Child' : (11+1)/2, 'Infant' :(365+27)/(2*365)}, # I'm doing this mean age of each group\n",
    "    \"Pregnancy status\" : {False : -1, True : 1},\n",
    "    'Murmur': {\"Present\": 1, \"Absent\": -1, \"Unknown\": 0},\n",
    "    'Systolic murmur timing': {\"Early-systolic\": 1, \"Holosystolic\": 4,\n",
    "                               \"Late-systolic\": 3, \"Mid-systolic\": 2, np.nan: -1},\n",
    "    'Systolic murmur grading': {\"I/VI\": 1, \"II/VI\": 2, \"III/VI\": 3, np.nan: -1},\n",
    "    'Systolic murmur pitch': {\"Low\": 1, \"Medium\": 2, \"High\": 3, np.nan: -1},\n",
    "    'Systolic murmur quality': {\"Blowing\": 1, \"Harsh\": 2, \"Musical\": 3, np.nan: -1},\n",
    "    'Diastolic murmur timing': {\"Early-diastolic\": 1, \"Holodiastolic\": 3,\n",
    "                                \"Mid-diastolic\": 2, np.nan: -1},\n",
    "    'Diastolic murmur grading': {\"I/IV\": 1, \"II/IV\": 2, \"III/IV\": 3, np.nan: -1},\n",
    "    'Diastolic murmur pitch': {\"Low\": 1, \"Medium\": 2, \"High\": 3, np.nan: -1},\n",
    "    'Diastolic murmur quality': {\"Blowing\": 1, \"Harsh\": 2, np.nan: -1},\n",
    "    \"Outcome\": {\"Normal\": -1, \"Abnormal\": 1}\n",
    "}\n",
    "\n",
    "all_fields = list(mappings.keys())\n",
    "\n",
    "\n",
    "\n",
    "\n",
    "for column, mapping in mappings.items():\n",
    "    data[column] = data[column].map(mapping)\n",
    "\n",
    "    \n",
    "# Calculate the correlation matrix for the selected columns\n",
    "correlation_matrix = data[all_fields].corr()\n",
    "\n",
    "# Create a figure and axis\n",
    "fig, ax = plt.subplots(figsize=(10, 10))\n",
    "\n",
    "# Create the correlation matrix heatmap\n",
    "cax = ax.matshow(correlation_matrix, cmap='coolwarm', vmin=-1, vmax=1)\n",
    "\n",
    "# Set the x and y tick labels\n",
    "ax.set_xticks(range(len(all_fields)))\n",
    "ax.set_yticks(range(len(all_fields)))\n",
    "ax.set_xticklabels(all_fields, rotation=90)\n",
    "ax.set_yticklabels(all_fields)\n",
    "\n",
    "# Add a colorbar\n",
    "fig.colorbar(cax)\n",
    "\n",
    "# Show the plot\n",
    "plt.show()\n",
    "\n",
    "\n"
   ]
  },
  {
   "cell_type": "code",
   "execution_count": null,
   "metadata": {},
   "outputs": [],
   "source": [
    "data[\"Diastolic murmur timing\"]"
   ]
  },
  {
   "cell_type": "code",
   "execution_count": null,
   "metadata": {},
   "outputs": [],
   "source": [
    "import gc"
   ]
  },
  {
   "cell_type": "code",
   "execution_count": null,
   "metadata": {},
   "outputs": [],
   "source": [
    "gc.collect()"
   ]
  },
  {
   "cell_type": "code",
   "execution_count": null,
   "metadata": {},
   "outputs": [],
   "source": [
    "data[\"Murmur\"]"
   ]
  },
  {
   "cell_type": "code",
   "execution_count": null,
   "metadata": {},
   "outputs": [],
   "source": []
  },
  {
   "cell_type": "code",
   "execution_count": null,
   "metadata": {},
   "outputs": [],
   "source": [
    "f = data.loc[data['Patient ID'] == 2530]"
   ]
  },
  {
   "cell_type": "code",
   "execution_count": null,
   "metadata": {},
   "outputs": [],
   "source": [
    "f[\"Age\"].values[0]"
   ]
  },
  {
   "cell_type": "code",
   "execution_count": null,
   "metadata": {},
   "outputs": [],
   "source": [
    "import sys\n",
    "sys.path.insert(0, \"../../scripts\")\n",
    "import dataloader as dl\n"
   ]
  },
  {
   "cell_type": "code",
   "execution_count": null,
   "metadata": {},
   "outputs": [],
   "source": [
    "dset = dl.PhonocardiogramByIDDataset(\n",
    "        str(DATASET_FOLDER / \"training_data.csv\"),\n",
    "        DATASET_FOLDER / \"training_data\"\n",
    "    )\n"
   ]
  },
  {
   "cell_type": "code",
   "execution_count": null,
   "metadata": {},
   "outputs": [],
   "source": [
    "files, audios, mostAudi, row = dset[85174]"
   ]
  },
  {
   "cell_type": "code",
   "execution_count": null,
   "metadata": {},
   "outputs": [],
   "source": [
    "row"
   ]
  },
  {
   "cell_type": "code",
   "execution_count": null,
   "metadata": {},
   "outputs": [],
   "source": [
    "# audios[\"AV\"][\"audio\"][0][0]\n",
    "\n",
    "plt.plot(np.abs(audios[\"AV\"][\"audio\"][0][0]))"
   ]
  },
  {
   "cell_type": "code",
   "execution_count": null,
   "metadata": {},
   "outputs": [],
   "source": [
    "row.keys()"
   ]
  },
  {
   "cell_type": "code",
   "execution_count": null,
   "metadata": {},
   "outputs": [],
   "source": [
    "row"
   ]
  },
  {
   "cell_type": "code",
   "execution_count": null,
   "metadata": {},
   "outputs": [],
   "source": [
    "list(data_original[\"Age\"])"
   ]
  },
  {
   "cell_type": "code",
   "execution_count": null,
   "metadata": {},
   "outputs": [],
   "source": []
  }
 ],
 "metadata": {
  "kernelspec": {
   "display_name": "Python 3",
   "language": "python",
   "name": "python3"
  },
  "language_info": {
   "codemirror_mode": {
    "name": "ipython",
    "version": 3
   },
   "file_extension": ".py",
   "mimetype": "text/x-python",
   "name": "python",
   "nbconvert_exporter": "python",
   "pygments_lexer": "ipython3",
   "version": "3.8.7"
  }
 },
 "nbformat": 4,
 "nbformat_minor": 4
}
