{
 "cells": [
  {
   "cell_type": "markdown",
   "metadata": {},
   "source": [
    "# Setup"
   ]
  },
  {
   "cell_type": "code",
   "execution_count": 8,
   "metadata": {},
   "outputs": [],
   "source": [
    "import random, os\n",
    "import numpy as np\n",
    "\n",
    "\n",
    "if \"pipeline\" not in os.listdir():\n",
    "    os.chdir(\"..\")\n",
    "\n",
    "from pipeline.preprocessing import \\\n",
    "    build_feature_extractor, \\\n",
    "    TCDPdata, \\\n",
    "    gen_datesets, \\\n",
    "    cross_train\n",
    "\n",
    "# constant\n",
    "dataset_root = \"assets/the-circor-digiscope-phonocardiogram-dataset-1.0.3\""
   ]
  },
  {
   "cell_type": "markdown",
   "metadata": {},
   "source": [
    "# Variables"
   ]
  },
  {
   "cell_type": "code",
   "execution_count": 21,
   "metadata": {},
   "outputs": [],
   "source": [
    "from sklearn.neural_network import MLPClassifier\n",
    "\n",
    "class args:\n",
    "    \n",
    "    cutoff_frequency = 2000 # use 0 to disable bandpass filter\n",
    "\n",
    "    use_features = [\n",
    "        \"chromagram\",\n",
    "        \"melspectrogram\",\n",
    "        \"mfcc\",\n",
    "        \"csv\"\n",
    "    ]\n",
    "\n",
    "    use_X = [\n",
    "        \"raw\",\n",
    "        \"scaled\",\n",
    "        \"minmax\"\n",
    "    ]\n",
    "\n",
    "    train_size = 0.8\n",
    "\n",
    "    random_state = 2024\n",
    "\n",
    "    use_models = {\n",
    "        \"MLP\": {\n",
    "            \"class\": MLPClassifier,\n",
    "            \"kwargs\": {\n",
    "                \"hidden_layer_sizes\": (\n",
    "                    100,\n",
    "                    200,\n",
    "                    # 200,\n",
    "                    # 200\n",
    "                ),\n",
    "                \"activation\": 'logistic',\n",
    "                \"max_iter\": 200,\n",
    "                \"random_state\": random_state\n",
    "            }\n",
    "        }\n",
    "    }\n",
    "\n",
    "random.seed(args.random_state)\n",
    "np.random.seed(args.random_state)"
   ]
  },
  {
   "cell_type": "markdown",
   "metadata": {},
   "source": [
    "# Extract Features"
   ]
  },
  {
   "cell_type": "code",
   "execution_count": 10,
   "metadata": {},
   "outputs": [],
   "source": [
    "# import pandas as pd\n",
    "\n",
    "# # pd.DataFrame(features).to_csv(\"./assets/feature.csv\", header=False, index=False)\n",
    "# _, labels = TCDPdata(dataset_root).getXy(lambda _: None)\n",
    "# features = np.array(pd.read_csv(\"./assets/feature.csv\", header=None))\n",
    "\n",
    "# assert len(labels) == 3159\n",
    "# assert sum(labels) == 1632\n",
    "# print('n features:', features.shape[1])"
   ]
  },
  {
   "cell_type": "code",
   "execution_count": 11,
   "metadata": {},
   "outputs": [
    {
     "name": "stderr",
     "output_type": "stream",
     "text": [
      "  0%|          | 0/3159 [00:00<?, ?it/s]"
     ]
    },
    {
     "name": "stderr",
     "output_type": "stream",
     "text": [
      "100%|██████████| 3159/3159 [03:45<00:00, 14.01it/s]"
     ]
    },
    {
     "name": "stdout",
     "output_type": "stream",
     "text": [
      "n features: 254\n"
     ]
    },
    {
     "name": "stderr",
     "output_type": "stream",
     "text": [
      "\n"
     ]
    }
   ],
   "source": [
    "features, labels = TCDPdata(dataset_root).getXy(build_feature_extractor(args.use_features, args.cutoff_frequency))\n",
    "\n",
    "assert len(labels) == 3159\n",
    "assert sum(labels) == 1632\n",
    "print('n features:', features.shape[1])"
   ]
  },
  {
   "cell_type": "markdown",
   "metadata": {},
   "source": [
    "# Generate Dataset"
   ]
  },
  {
   "cell_type": "code",
   "execution_count": 12,
   "metadata": {},
   "outputs": [
    {
     "name": "stdout",
     "output_type": "stream",
     "text": [
      "raw scaled minmax\n"
     ]
    }
   ],
   "source": [
    "X, y = gen_datesets(features, labels, args.use_X, args.train_size, args.random_state)\n",
    "print(*X.keys())"
   ]
  },
  {
   "cell_type": "markdown",
   "metadata": {},
   "source": [
    "# Train Models"
   ]
  },
  {
   "cell_type": "code",
   "execution_count": 22,
   "metadata": {},
   "outputs": [],
   "source": [
    "\"\"\"\n",
    "In case you run the next cell accidently,\n",
    "which can make you lose all the data.\n",
    "You need to run the cell first before the next one.\n",
    "\"\"\"\n",
    "models = {}\n",
    "scores = {}"
   ]
  },
  {
   "cell_type": "code",
   "execution_count": 23,
   "metadata": {},
   "outputs": [
    {
     "name": "stdout",
     "output_type": "stream",
     "text": [
      "Dataset: raw, Model: MLP, Training...\n"
     ]
    },
    {
     "name": "stderr",
     "output_type": "stream",
     "text": [
      "d:\\python\\Python311\\Lib\\site-packages\\sklearn\\neural_network\\_multilayer_perceptron.py:684: ConvergenceWarning: Stochastic Optimizer: Maximum iterations (200) reached and the optimization hasn't converged yet.\n",
      "  warnings.warn(\n"
     ]
    },
    {
     "name": "stdout",
     "output_type": "stream",
     "text": [
      "Performance on train set:\n",
      "{'accuracy': 1.0, 'auc': 1.0, 'f1': 1.0}\n",
      "Performance on test set:\n",
      "{'accuracy': 0.6329113924050633,\n",
      " 'auc': 0.632807570977918,\n",
      " 'f1': 0.6452599388379204}\n",
      "\n",
      "Dataset: scaled, Model: MLP, Training...\n"
     ]
    },
    {
     "name": "stderr",
     "output_type": "stream",
     "text": [
      "d:\\python\\Python311\\Lib\\site-packages\\sklearn\\neural_network\\_multilayer_perceptron.py:684: ConvergenceWarning: Stochastic Optimizer: Maximum iterations (200) reached and the optimization hasn't converged yet.\n",
      "  warnings.warn(\n"
     ]
    },
    {
     "name": "stdout",
     "output_type": "stream",
     "text": [
      "Performance on train set:\n",
      "{'accuracy': 1.0, 'auc': 1.0, 'f1': 1.0}\n",
      "Performance on test set:\n",
      "{'accuracy': 0.6629746835443038,\n",
      " 'auc': 0.6628961994892595,\n",
      " 'f1': 0.6718027734976888}\n",
      "\n",
      "Dataset: minmax, Model: MLP, Training...\n",
      "Performance on train set:\n",
      "{'accuracy': 0.6838148001582904,\n",
      " 'auc': 0.685631329292625,\n",
      " 'f1': 0.6784708249496981}\n",
      "Performance on test set:\n",
      "{'accuracy': 0.6186708860759493,\n",
      " 'auc': 0.6188122778028141,\n",
      " 'f1': 0.6016528925619835}\n",
      "\n"
     ]
    }
   ],
   "source": [
    "assert len(scores) == len(models) == 0, \"rerun the cell above to start a new experiment\"\n",
    "assert len(args.use_X) > 0 and len(args.use_models) > 0, \"at least one pair of train/test sets and one model is required\"\n",
    "\n",
    "models, scores = cross_train(X, y, args.use_models)"
   ]
  }
 ],
 "metadata": {
  "kernelspec": {
   "display_name": ".venv",
   "language": "python",
   "name": "python3"
  },
  "language_info": {
   "codemirror_mode": {
    "name": "ipython",
    "version": 3
   },
   "file_extension": ".py",
   "mimetype": "text/x-python",
   "name": "python",
   "nbconvert_exporter": "python",
   "pygments_lexer": "ipython3",
   "version": "3.11.1"
  }
 },
 "nbformat": 4,
 "nbformat_minor": 2
}
