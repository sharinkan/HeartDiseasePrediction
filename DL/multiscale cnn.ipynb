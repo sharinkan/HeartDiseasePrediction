{
 "cells": [
  {
   "cell_type": "markdown",
   "metadata": {},
   "source": [
    "# Setup"
   ]
  },
  {
   "cell_type": "code",
   "execution_count": 1,
   "metadata": {},
   "outputs": [],
   "source": [
    "# Project Root directory\n",
    "project_root = \"..\""
   ]
  },
  {
   "cell_type": "code",
   "execution_count": 2,
   "metadata": {},
   "outputs": [],
   "source": [
    "import random, os\n",
    "import numpy as np\n",
    "\n",
    "if \"pipeline\" not in os.listdir():\n",
    "    os.chdir(project_root)\n",
    "    assert \"pipeline\" in os.listdir()\n",
    "\n",
    "from pipeline.preprocessing import \\\n",
    "    build_feature_extractor, \\\n",
    "    TCDPdata, \\\n",
    "    gen_datesets, \\\n",
    "    cross_train\n",
    "\n",
    "# constant\n",
    "dataset_root = \"assets/the-circor-digiscope-phonocardiogram-dataset-1.0.3\""
   ]
  },
  {
   "cell_type": "markdown",
   "metadata": {},
   "source": [
    "# Variables"
   ]
  },
  {
   "cell_type": "code",
   "execution_count": 3,
   "metadata": {},
   "outputs": [],
   "source": [
    "from DL.models import MultiScaleCNN\n",
    "\n",
    "class args:\n",
    "    \n",
    "    cutoff_frequency = 2000 # use 0 to disable bandpass filter\n",
    "\n",
    "    use_features = [\n",
    "        \"mel_2d\"\n",
    "    ]\n",
    "\n",
    "    use_X = [\n",
    "        \"raw\",\n",
    "        \"scaled\",\n",
    "        \"minmax\",\n",
    "    ]\n",
    "\n",
    "    train_size = 0.8\n",
    "\n",
    "    random_state = 2024\n",
    "\n",
    "    use_models = {\n",
    "        \"CNN2D\": {\n",
    "            \"class\": MultiScaleCNN,\n",
    "            \"kwargs\": {\n",
    "                \"input_shape\": [128, None, 1],  # (n_mels, time_frames, channels)\n",
    "                \"num_classes\": 2,\n",
    "                \"learning_rate\": 0.001,\n",
    "                \"epochs\": 1,\n",
    "                \"batch_size\": 32,\n",
    "            }\n",
    "        }\n",
    "    }\n",
    "\n",
    "    def set_n_time_frames(n_time_frames: int):\n",
    "        args.use_models[\"CNN2D\"][\"kwargs\"]['input_shape'][1] = n_time_frames\n",
    "\n",
    "random.seed(args.random_state)\n",
    "np.random.seed(args.random_state)"
   ]
  },
  {
   "cell_type": "markdown",
   "metadata": {},
   "source": [
    "# Extract Features"
   ]
  },
  {
   "cell_type": "code",
   "execution_count": 4,
   "metadata": {},
   "outputs": [
    {
     "name": "stderr",
     "output_type": "stream",
     "text": [
      "100%|██████████| 3159/3159 [02:40<00:00, 19.64it/s]\n"
     ]
    },
    {
     "name": "stdout",
     "output_type": "stream",
     "text": [
      "n features: 128\n",
      "mean of labels: 0.51661918328585\n"
     ]
    }
   ],
   "source": [
    "extract_features = build_feature_extractor(\n",
    "    args.use_features,\n",
    "    args.cutoff_frequency\n",
    ")\n",
    "features, labels = TCDPdata(dataset_root).getXy(extract_features)\n",
    "\n",
    "## defensive checking\n",
    "# assert len(labels) == 3159\n",
    "# assert sum(labels) == 1632\n",
    "print('n features:', features.shape[1])\n",
    "print('mean of labels:', labels.mean())"
   ]
  },
  {
   "cell_type": "markdown",
   "metadata": {},
   "source": [
    "# Generate Dataset"
   ]
  },
  {
   "cell_type": "code",
   "execution_count": 5,
   "metadata": {},
   "outputs": [
    {
     "name": "stdout",
     "output_type": "stream",
     "text": [
      "raw (2527, 128, 505) (632, 128, 505)\n",
      "scaled (2527, 128, 505) (632, 128, 505)\n",
      "minmax (2527, 128, 505) (632, 128, 505)\n"
     ]
    }
   ],
   "source": [
    "# features matrix has 3 dimensions: 0 for files, 1 for channels, 2 for time\n",
    "# We want to normalize each channel(axis=1) separately,\n",
    "# so the normalizer will move along axis 0 and 2. (normalize_axis=(0, 2))\n",
    "X, y = gen_datesets(features, labels, args.use_X, args.train_size, args.random_state,\n",
    "                    normalize_axis=(0, 2))\n",
    "\n",
    "for x_type in X.keys():\n",
    "    print(x_type, X[x_type]['train'].shape, X[x_type]['test'].shape)"
   ]
  },
  {
   "cell_type": "code",
   "execution_count": 6,
   "metadata": {},
   "outputs": [
    {
     "name": "stdout",
     "output_type": "stream",
     "text": [
      "Model has aligned its input layer with n_time_frames: 505\n"
     ]
    }
   ],
   "source": [
    "n_time_frames = X['raw']['train'].shape[2]\n",
    "args.set_n_time_frames(n_time_frames)\n",
    "print(f\"Model has aligned its input layer with n_time_frames: {n_time_frames}\")"
   ]
  },
  {
   "cell_type": "markdown",
   "metadata": {},
   "source": [
    "# Train Models"
   ]
  },
  {
   "cell_type": "code",
   "execution_count": 7,
   "metadata": {},
   "outputs": [],
   "source": [
    "\"\"\"\n",
    "In case you run the next cell accidently,\n",
    "which can make you lose all the data.\n",
    "You need to run the cell first before the next one.\n",
    "\"\"\"\n",
    "models = {}\n",
    "scores = {}"
   ]
  },
  {
   "cell_type": "code",
   "execution_count": 8,
   "metadata": {},
   "outputs": [
    {
     "name": "stdout",
     "output_type": "stream",
     "text": [
      "Dataset: raw, Model: CNN2D, Training...\n",
      "\u001b[1m79/79\u001b[0m \u001b[32m━━━━━━━━━━━━━━━━━━━━\u001b[0m\u001b[37m\u001b[0m \u001b[1m139s\u001b[0m 2s/step - accuracy: 0.5426 - loss: 1.7443\n",
      "\u001b[1m79/79\u001b[0m \u001b[32m━━━━━━━━━━━━━━━━━━━━\u001b[0m\u001b[37m\u001b[0m \u001b[1m32s\u001b[0m 406ms/step\n",
      "Performance on train set:\n",
      "{'accuracy': 0.5686584711074829,\n",
      " 'auc': 0.5705257312803523,\n",
      " 'f1': 0.5587044534412956}\n",
      "\u001b[1m20/20\u001b[0m \u001b[32m━━━━━━━━━━━━━━━━━━━━\u001b[0m\u001b[37m\u001b[0m \u001b[1m8s\u001b[0m 408ms/step\n",
      "Performance on test set:\n",
      "{'accuracy': 0.530063271522522,\n",
      " 'auc': 0.5301937809824245,\n",
      " 'f1': 0.5107084019769358}\n",
      "\n",
      "Dataset: scaled, Model: CNN2D, Training...\n",
      "\u001b[1m79/79\u001b[0m \u001b[32m━━━━━━━━━━━━━━━━━━━━\u001b[0m\u001b[37m\u001b[0m \u001b[1m123s\u001b[0m 2s/step - accuracy: 0.5090 - loss: 0.6936\n",
      "\u001b[1m79/79\u001b[0m \u001b[32m━━━━━━━━━━━━━━━━━━━━\u001b[0m\u001b[37m\u001b[0m \u001b[1m33s\u001b[0m 412ms/step\n",
      "Performance on train set:\n",
      "{'accuracy': 0.520379900932312, 'auc': 0.5, 'f1': 0.6845393024466424}\n",
      "\u001b[1m20/20\u001b[0m \u001b[32m━━━━━━━━━━━━━━━━━━━━\u001b[0m\u001b[37m\u001b[0m \u001b[1m8s\u001b[0m 396ms/step\n",
      "Performance on test set:\n",
      "{'accuracy': 0.5015822649002075, 'auc': 0.5, 'f1': 0.6680716543730243}\n",
      "\n",
      "Dataset: minmax, Model: CNN2D, Training...\n",
      "\u001b[1m79/79\u001b[0m \u001b[32m━━━━━━━━━━━━━━━━━━━━\u001b[0m\u001b[37m\u001b[0m \u001b[1m119s\u001b[0m 1s/step - accuracy: 0.5135 - loss: 0.7817\n",
      "\u001b[1m79/79\u001b[0m \u001b[32m━━━━━━━━━━━━━━━━━━━━\u001b[0m\u001b[37m\u001b[0m \u001b[1m31s\u001b[0m 388ms/step\n",
      "Performance on train set:\n",
      "{'accuracy': 0.5512465238571167,\n",
      " 'auc': 0.5358619131875164,\n",
      " 'f1': 0.6792986425339367}\n",
      "\u001b[1m20/20\u001b[0m \u001b[32m━━━━━━━━━━━━━━━━━━━━\u001b[0m\u001b[37m\u001b[0m \u001b[1m8s\u001b[0m 385ms/step\n",
      "Performance on test set:\n",
      "{'accuracy': 0.5158227682113647,\n",
      " 'auc': 0.5146161934805468,\n",
      " 'f1': 0.6498855835240275}\n",
      "\n"
     ]
    }
   ],
   "source": [
    "assert len(scores) == len(models) == 0, \"rerun the cell above to start a new experiment\"\n",
    "assert len(args.use_X) > 0 and len(args.use_models) > 0, \"at least one pair of train/test sets and one model is required\"\n",
    "\n",
    "models, scores = cross_train(X, y, args.use_models)"
   ]
  },
  {
   "cell_type": "code",
   "execution_count": 9,
   "metadata": {},
   "outputs": [
    {
     "data": {
      "text/plain": [
       "{'raw': {'CNN2D': {'train': {'accuracy': 0.5686584711074829,\n",
       "    'f1': 0.5587044534412956,\n",
       "    'auc': 0.5705257312803523},\n",
       "   'test': {'accuracy': 0.530063271522522,\n",
       "    'f1': 0.5107084019769358,\n",
       "    'auc': 0.5301937809824245}}},\n",
       " 'scaled': {'CNN2D': {'train': {'accuracy': 0.520379900932312,\n",
       "    'f1': 0.6845393024466424,\n",
       "    'auc': 0.5},\n",
       "   'test': {'accuracy': 0.5015822649002075,\n",
       "    'f1': 0.6680716543730243,\n",
       "    'auc': 0.5}}},\n",
       " 'minmax': {'CNN2D': {'train': {'accuracy': 0.5512465238571167,\n",
       "    'f1': 0.6792986425339367,\n",
       "    'auc': 0.5358619131875164},\n",
       "   'test': {'accuracy': 0.5158227682113647,\n",
       "    'f1': 0.6498855835240275,\n",
       "    'auc': 0.5146161934805468}}}}"
      ]
     },
     "execution_count": 9,
     "metadata": {},
     "output_type": "execute_result"
    }
   ],
   "source": [
    "scores"
   ]
  }
 ],
 "metadata": {
  "kernelspec": {
   "display_name": ".venv",
   "language": "python",
   "name": "python3"
  },
  "language_info": {
   "codemirror_mode": {
    "name": "ipython",
    "version": 3
   },
   "file_extension": ".py",
   "mimetype": "text/x-python",
   "name": "python",
   "nbconvert_exporter": "python",
   "pygments_lexer": "ipython3",
   "version": "3.11.1"
  }
 },
 "nbformat": 4,
 "nbformat_minor": 2
}
