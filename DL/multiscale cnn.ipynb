{
 "cells": [
  {
   "cell_type": "markdown",
   "metadata": {},
   "source": [
    "# Setup"
   ]
  },
  {
   "cell_type": "code",
   "execution_count": 1,
   "metadata": {},
   "outputs": [],
   "source": [
    "# Project Root directory\n",
    "project_root = \"..\""
   ]
  },
  {
   "cell_type": "code",
   "execution_count": 2,
   "metadata": {},
   "outputs": [],
   "source": [
    "import random, os\n",
    "import numpy as np\n",
    "\n",
    "if \"pipeline\" not in os.listdir():\n",
    "    os.chdir(project_root)\n",
    "    assert \"pipeline\" in os.listdir()\n",
    "\n",
    "from pipeline.preprocessing import \\\n",
    "    build_feature_extractor, \\\n",
    "    TCDPdata, \\\n",
    "    gen_datesets, \\\n",
    "    cross_train\n",
    "\n",
    "# constant\n",
    "dataset_root = \"assets/the-circor-digiscope-phonocardiogram-dataset-1.0.3\""
   ]
  },
  {
   "cell_type": "markdown",
   "metadata": {},
   "source": [
    "# Variables"
   ]
  },
  {
   "cell_type": "code",
   "execution_count": 10,
   "metadata": {},
   "outputs": [],
   "source": [
    "from DL.models import MultiScaleCNN\n",
    "\n",
    "class args:\n",
    "    \n",
    "    cutoff_frequency = 2000 # use 0 to disable bandpass filter\n",
    "\n",
    "    use_features = [\n",
    "        \"mel_2d\"\n",
    "    ]\n",
    "\n",
    "    use_X = [\n",
    "        \"raw\",\n",
    "        \"scaled\",\n",
    "        \"minmax\",\n",
    "    ]\n",
    "\n",
    "    train_size = 0.8\n",
    "\n",
    "    random_state = 2024\n",
    "\n",
    "    use_models = {\n",
    "        \"CNN2D\": {\n",
    "            \"class\": MultiScaleCNN,\n",
    "            \"kwargs\": {\n",
    "                \"input_shape\": [128, None, 1],  # (n_mels, time_frames, channels)\n",
    "                \"num_classes\": 2,\n",
    "                \"learning_rate\": 0.001,\n",
    "                \"epochs\": 10,\n",
    "                \"batch_size\": 32,\n",
    "            }\n",
    "        }\n",
    "    }\n",
    "\n",
    "    def set_n_time_frames(n_time_frames: int):\n",
    "        args.use_models[\"CNN2D\"][\"kwargs\"]['input_shape'][1] = n_time_frames\n",
    "\n",
    "random.seed(args.random_state)\n",
    "np.random.seed(args.random_state)"
   ]
  },
  {
   "cell_type": "markdown",
   "metadata": {},
   "source": [
    "# Extract Features"
   ]
  },
  {
   "cell_type": "code",
   "execution_count": 4,
   "metadata": {},
   "outputs": [
    {
     "name": "stderr",
     "output_type": "stream",
     "text": [
      "100%|██████████| 3159/3159 [02:40<00:00, 19.64it/s]\n"
     ]
    },
    {
     "name": "stdout",
     "output_type": "stream",
     "text": [
      "n features: 128\n",
      "mean of labels: 0.51661918328585\n"
     ]
    }
   ],
   "source": [
    "extract_features = build_feature_extractor(\n",
    "    args.use_features,\n",
    "    args.cutoff_frequency\n",
    ")\n",
    "features, labels = TCDPdata(dataset_root).getXy(extract_features)\n",
    "\n",
    "## defensive checking\n",
    "# assert len(labels) == 3159\n",
    "# assert sum(labels) == 1632\n",
    "print('n features:', features.shape[1])\n",
    "print('mean of labels:', labels.mean())"
   ]
  },
  {
   "cell_type": "markdown",
   "metadata": {},
   "source": [
    "# Generate Dataset"
   ]
  },
  {
   "cell_type": "code",
   "execution_count": 5,
   "metadata": {},
   "outputs": [
    {
     "name": "stdout",
     "output_type": "stream",
     "text": [
      "raw (2527, 128, 505) (632, 128, 505)\n",
      "scaled (2527, 128, 505) (632, 128, 505)\n",
      "minmax (2527, 128, 505) (632, 128, 505)\n"
     ]
    }
   ],
   "source": [
    "# features matrix has 3 dimensions: 0 for files, 1 for channels, 2 for time\n",
    "# We want to normalize each channel(axis=1) separately,\n",
    "# so the normalizer will move along axis 0 and 2. (normalize_axis=(0, 2))\n",
    "X, y = gen_datesets(features, labels, args.use_X, args.train_size, args.random_state,\n",
    "                    normalize_axis=(0, 2))\n",
    "\n",
    "for x_type in X.keys():\n",
    "    print(x_type, X[x_type]['train'].shape, X[x_type]['test'].shape)"
   ]
  },
  {
   "cell_type": "code",
   "execution_count": 14,
   "metadata": {},
   "outputs": [
    {
     "name": "stdout",
     "output_type": "stream",
     "text": [
      "Model has aligned its input layer with n_time_frames: 505\n"
     ]
    }
   ],
   "source": [
    "n_time_frames = X['raw']['train'].shape[2]\n",
    "args.set_n_time_frames(n_time_frames)\n",
    "print(f\"Model has aligned its input layer with n_time_frames: {n_time_frames}\")"
   ]
  },
  {
   "cell_type": "markdown",
   "metadata": {},
   "source": [
    "# Train Models"
   ]
  },
  {
   "cell_type": "code",
   "execution_count": 15,
   "metadata": {},
   "outputs": [],
   "source": [
    "\"\"\"\n",
    "In case you run the next cell accidently,\n",
    "which can make you lose all the data.\n",
    "You need to run the cell first before the next one.\n",
    "\"\"\"\n",
    "models = {}\n",
    "scores = {}"
   ]
  },
  {
   "cell_type": "code",
   "execution_count": 16,
   "metadata": {},
   "outputs": [
    {
     "name": "stdout",
     "output_type": "stream",
     "text": [
      "Dataset: raw, Model: CNN2D, Training...\n",
      "Epoch 1/10\n",
      "\u001b[1m79/79\u001b[0m \u001b[32m━━━━━━━━━━━━━━━━━━━━\u001b[0m\u001b[37m\u001b[0m \u001b[1m118s\u001b[0m 1s/step - accuracy: 0.5146 - loss: 1.5779\n",
      "Epoch 2/10\n",
      "\u001b[1m79/79\u001b[0m \u001b[32m━━━━━━━━━━━━━━━━━━━━\u001b[0m\u001b[37m\u001b[0m \u001b[1m115s\u001b[0m 1s/step - accuracy: 0.5469 - loss: 0.6864\n",
      "Epoch 3/10\n",
      "\u001b[1m79/79\u001b[0m \u001b[32m━━━━━━━━━━━━━━━━━━━━\u001b[0m\u001b[37m\u001b[0m \u001b[1m117s\u001b[0m 1s/step - accuracy: 0.5715 - loss: 0.6736\n",
      "Epoch 4/10\n",
      "\u001b[1m79/79\u001b[0m \u001b[32m━━━━━━━━━━━━━━━━━━━━\u001b[0m\u001b[37m\u001b[0m \u001b[1m117s\u001b[0m 1s/step - accuracy: 0.5868 - loss: 0.6619\n",
      "Epoch 5/10\n",
      "\u001b[1m79/79\u001b[0m \u001b[32m━━━━━━━━━━━━━━━━━━━━\u001b[0m\u001b[37m\u001b[0m \u001b[1m114s\u001b[0m 1s/step - accuracy: 0.6292 - loss: 0.6395\n",
      "Epoch 6/10\n",
      "\u001b[1m79/79\u001b[0m \u001b[32m━━━━━━━━━━━━━━━━━━━━\u001b[0m\u001b[37m\u001b[0m \u001b[1m106s\u001b[0m 1s/step - accuracy: 0.6347 - loss: 0.6314\n",
      "Epoch 7/10\n",
      "\u001b[1m79/79\u001b[0m \u001b[32m━━━━━━━━━━━━━━━━━━━━\u001b[0m\u001b[37m\u001b[0m \u001b[1m106s\u001b[0m 1s/step - accuracy: 0.6330 - loss: 0.6398\n",
      "Epoch 8/10\n",
      "\u001b[1m79/79\u001b[0m \u001b[32m━━━━━━━━━━━━━━━━━━━━\u001b[0m\u001b[37m\u001b[0m \u001b[1m1627s\u001b[0m 21s/step - accuracy: 0.6609 - loss: 0.5814\n",
      "Epoch 9/10\n",
      "\u001b[1m79/79\u001b[0m \u001b[32m━━━━━━━━━━━━━━━━━━━━\u001b[0m\u001b[37m\u001b[0m \u001b[1m113s\u001b[0m 1s/step - accuracy: 0.7170 - loss: 0.5633\n",
      "Epoch 10/10\n",
      "\u001b[1m79/79\u001b[0m \u001b[32m━━━━━━━━━━━━━━━━━━━━\u001b[0m\u001b[37m\u001b[0m \u001b[1m114s\u001b[0m 1s/step - accuracy: 0.6875 - loss: 0.5998\n",
      "\u001b[1m79/79\u001b[0m \u001b[32m━━━━━━━━━━━━━━━━━━━━\u001b[0m\u001b[37m\u001b[0m \u001b[1m31s\u001b[0m 392ms/step\n",
      "Performance on train set:\n",
      "{'accuracy': 0.7273446917533875,\n",
      " 'auc': 0.7260992734254414,\n",
      " 'f1': 0.7428144830160508}\n",
      "\u001b[1m20/20\u001b[0m \u001b[32m━━━━━━━━━━━━━━━━━━━━\u001b[0m\u001b[37m\u001b[0m \u001b[1m8s\u001b[0m 407ms/step\n",
      "Performance on test set:\n",
      "{'accuracy': 0.5443037748336792,\n",
      " 'auc': 0.5441990886785839,\n",
      " 'f1': 0.5596330275229358}\n",
      "\n",
      "Dataset: scaled, Model: CNN2D, Training...\n",
      "Epoch 1/10\n",
      "\u001b[1m79/79\u001b[0m \u001b[32m━━━━━━━━━━━━━━━━━━━━\u001b[0m\u001b[37m\u001b[0m \u001b[1m115s\u001b[0m 1s/step - accuracy: 0.5134 - loss: 0.6919\n",
      "Epoch 2/10\n",
      "\u001b[1m79/79\u001b[0m \u001b[32m━━━━━━━━━━━━━━━━━━━━\u001b[0m\u001b[37m\u001b[0m \u001b[1m110s\u001b[0m 1s/step - accuracy: 0.5084 - loss: 0.6937\n",
      "Epoch 3/10\n",
      "\u001b[1m79/79\u001b[0m \u001b[32m━━━━━━━━━━━━━━━━━━━━\u001b[0m\u001b[37m\u001b[0m \u001b[1m110s\u001b[0m 1s/step - accuracy: 0.5082 - loss: 0.6896\n",
      "Epoch 4/10\n",
      "\u001b[1m79/79\u001b[0m \u001b[32m━━━━━━━━━━━━━━━━━━━━\u001b[0m\u001b[37m\u001b[0m \u001b[1m106s\u001b[0m 1s/step - accuracy: 0.5180 - loss: 0.6869\n",
      "Epoch 5/10\n",
      "\u001b[1m79/79\u001b[0m \u001b[32m━━━━━━━━━━━━━━━━━━━━\u001b[0m\u001b[37m\u001b[0m \u001b[1m105s\u001b[0m 1s/step - accuracy: 0.5242 - loss: 0.6901\n",
      "Epoch 6/10\n",
      "\u001b[1m79/79\u001b[0m \u001b[32m━━━━━━━━━━━━━━━━━━━━\u001b[0m\u001b[37m\u001b[0m \u001b[1m107s\u001b[0m 1s/step - accuracy: 0.5313 - loss: 0.6797\n",
      "Epoch 7/10\n",
      "\u001b[1m79/79\u001b[0m \u001b[32m━━━━━━━━━━━━━━━━━━━━\u001b[0m\u001b[37m\u001b[0m \u001b[1m105s\u001b[0m 1s/step - accuracy: 0.5587 - loss: 0.6723\n",
      "Epoch 8/10\n",
      "\u001b[1m79/79\u001b[0m \u001b[32m━━━━━━━━━━━━━━━━━━━━\u001b[0m\u001b[37m\u001b[0m \u001b[1m105s\u001b[0m 1s/step - accuracy: 0.5481 - loss: 0.6651\n",
      "Epoch 9/10\n",
      "\u001b[1m79/79\u001b[0m \u001b[32m━━━━━━━━━━━━━━━━━━━━\u001b[0m\u001b[37m\u001b[0m \u001b[1m108s\u001b[0m 1s/step - accuracy: 0.5872 - loss: 0.6492\n",
      "Epoch 10/10\n",
      "\u001b[1m79/79\u001b[0m \u001b[32m━━━━━━━━━━━━━━━━━━━━\u001b[0m\u001b[37m\u001b[0m \u001b[1m113s\u001b[0m 1s/step - accuracy: 0.5715 - loss: 0.6502\n",
      "\u001b[1m79/79\u001b[0m \u001b[32m━━━━━━━━━━━━━━━━━━━━\u001b[0m\u001b[37m\u001b[0m \u001b[1m31s\u001b[0m 384ms/step\n",
      "Performance on train set:\n",
      "{'accuracy': 0.6098139882087708,\n",
      " 'auc': 0.600860219101758,\n",
      " 'f1': 0.6863867684478372}\n",
      "\u001b[1m20/20\u001b[0m \u001b[32m━━━━━━━━━━━━━━━━━━━━\u001b[0m\u001b[37m\u001b[0m \u001b[1m8s\u001b[0m 383ms/step\n",
      "Performance on test set:\n",
      "{'accuracy': 0.5822784900665283,\n",
      " 'auc': 0.5815031796104351,\n",
      " 'f1': 0.66497461928934}\n",
      "\n",
      "Dataset: minmax, Model: CNN2D, Training...\n",
      "Epoch 1/10\n",
      "\u001b[1m79/79\u001b[0m \u001b[32m━━━━━━━━━━━━━━━━━━━━\u001b[0m\u001b[37m\u001b[0m \u001b[1m114s\u001b[0m 1s/step - accuracy: 0.5154 - loss: 0.7114\n",
      "Epoch 2/10\n",
      "\u001b[1m79/79\u001b[0m \u001b[32m━━━━━━━━━━━━━━━━━━━━\u001b[0m\u001b[37m\u001b[0m \u001b[1m107s\u001b[0m 1s/step - accuracy: 0.5874 - loss: 0.6862\n",
      "Epoch 3/10\n",
      "\u001b[1m79/79\u001b[0m \u001b[32m━━━━━━━━━━━━━━━━━━━━\u001b[0m\u001b[37m\u001b[0m \u001b[1m110s\u001b[0m 1s/step - accuracy: 0.5663 - loss: 0.6735\n",
      "Epoch 4/10\n",
      "\u001b[1m79/79\u001b[0m \u001b[32m━━━━━━━━━━━━━━━━━━━━\u001b[0m\u001b[37m\u001b[0m \u001b[1m108s\u001b[0m 1s/step - accuracy: 0.5959 - loss: 0.6563\n",
      "Epoch 5/10\n",
      "\u001b[1m79/79\u001b[0m \u001b[32m━━━━━━━━━━━━━━━━━━━━\u001b[0m\u001b[37m\u001b[0m \u001b[1m105s\u001b[0m 1s/step - accuracy: 0.6230 - loss: 0.6391\n",
      "Epoch 6/10\n",
      "\u001b[1m79/79\u001b[0m \u001b[32m━━━━━━━━━━━━━━━━━━━━\u001b[0m\u001b[37m\u001b[0m \u001b[1m106s\u001b[0m 1s/step - accuracy: 0.6487 - loss: 0.5994\n",
      "Epoch 7/10\n",
      "\u001b[1m79/79\u001b[0m \u001b[32m━━━━━━━━━━━━━━━━━━━━\u001b[0m\u001b[37m\u001b[0m \u001b[1m105s\u001b[0m 1s/step - accuracy: 0.6822 - loss: 0.5681\n",
      "Epoch 8/10\n",
      "\u001b[1m79/79\u001b[0m \u001b[32m━━━━━━━━━━━━━━━━━━━━\u001b[0m\u001b[37m\u001b[0m \u001b[1m104s\u001b[0m 1s/step - accuracy: 0.6932 - loss: 0.5438\n",
      "Epoch 9/10\n",
      "\u001b[1m79/79\u001b[0m \u001b[32m━━━━━━━━━━━━━━━━━━━━\u001b[0m\u001b[37m\u001b[0m \u001b[1m109s\u001b[0m 1s/step - accuracy: 0.7091 - loss: 0.5334\n",
      "Epoch 10/10\n",
      "\u001b[1m79/79\u001b[0m \u001b[32m━━━━━━━━━━━━━━━━━━━━\u001b[0m\u001b[37m\u001b[0m \u001b[1m113s\u001b[0m 1s/step - accuracy: 0.7260 - loss: 0.5008\n",
      "\u001b[1m79/79\u001b[0m \u001b[32m━━━━━━━━━━━━━━━━━━━━\u001b[0m\u001b[37m\u001b[0m \u001b[1m31s\u001b[0m 391ms/step\n",
      "Performance on train set:\n",
      "{'accuracy': 0.7867035865783691,\n",
      " 'auc': 0.7872372598476578,\n",
      " 'f1': 0.7906796116504855}\n",
      "\u001b[1m20/20\u001b[0m \u001b[32m━━━━━━━━━━━━━━━━━━━━\u001b[0m\u001b[37m\u001b[0m \u001b[1m8s\u001b[0m 376ms/step\n",
      "Performance on test set:\n",
      "{'accuracy': 0.5458860993385315,\n",
      " 'auc': 0.545946622602774,\n",
      " 'f1': 0.5378421900161031}\n",
      "\n"
     ]
    }
   ],
   "source": [
    "assert len(scores) == len(models) == 0, \"rerun the cell above to start a new experiment\"\n",
    "assert len(args.use_X) > 0 and len(args.use_models) > 0, \"at least one pair of train/test sets and one model is required\"\n",
    "\n",
    "models, scores = cross_train(X, y, args.use_models)"
   ]
  },
  {
   "cell_type": "code",
   "execution_count": 17,
   "metadata": {},
   "outputs": [
    {
     "data": {
      "text/plain": [
       "{'raw': {'CNN2D': {'train': {'accuracy': 0.7273446917533875,\n",
       "    'f1': 0.7428144830160508,\n",
       "    'auc': 0.7260992734254414},\n",
       "   'test': {'accuracy': 0.5443037748336792,\n",
       "    'f1': 0.5596330275229358,\n",
       "    'auc': 0.5441990886785839}}},\n",
       " 'scaled': {'CNN2D': {'train': {'accuracy': 0.6098139882087708,\n",
       "    'f1': 0.6863867684478372,\n",
       "    'auc': 0.600860219101758},\n",
       "   'test': {'accuracy': 0.5822784900665283,\n",
       "    'f1': 0.66497461928934,\n",
       "    'auc': 0.5815031796104351}}},\n",
       " 'minmax': {'CNN2D': {'train': {'accuracy': 0.7867035865783691,\n",
       "    'f1': 0.7906796116504855,\n",
       "    'auc': 0.7872372598476578},\n",
       "   'test': {'accuracy': 0.5458860993385315,\n",
       "    'f1': 0.5378421900161031,\n",
       "    'auc': 0.545946622602774}}}}"
      ]
     },
     "execution_count": 17,
     "metadata": {},
     "output_type": "execute_result"
    }
   ],
   "source": [
    "scores"
   ]
  }
 ],
 "metadata": {
  "kernelspec": {
   "display_name": ".venv",
   "language": "python",
   "name": "python3"
  },
  "language_info": {
   "codemirror_mode": {
    "name": "ipython",
    "version": 3
   },
   "file_extension": ".py",
   "mimetype": "text/x-python",
   "name": "python",
   "nbconvert_exporter": "python",
   "pygments_lexer": "ipython3",
   "version": "3.11.1"
  }
 },
 "nbformat": 4,
 "nbformat_minor": 2
}
