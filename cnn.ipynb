{
 "cells": [
  {
   "cell_type": "code",
   "execution_count": 1,
   "metadata": {},
   "outputs": [],
   "source": [
    "from pipeline.preprocessing import * # fix later\n",
    "from pipeline.dataloader import PhonocardiogramAudioDataset, PhonocardiogramByIDDatasetOnlyResult, PhonocardiogramAugmentationTSV\n",
    "from tqdm import tqdm\n",
    "from pipeline.utils import compose_feature_label, audio_random_windowing, energy_band_augmentation_random_win\n",
    "import sys\n",
    "import itertools\n",
    "import csv\n",
    "from datetime import datetime"
   ]
  },
  {
   "cell_type": "code",
   "execution_count": 3,
   "metadata": {},
   "outputs": [],
   "source": [
    "from pathlib import Path\n",
    "from torch.utils.data import DataLoader\n",
    "import torch\n",
    "import re"
   ]
  },
  {
   "cell_type": "code",
   "execution_count": 4,
   "metadata": {},
   "outputs": [
    {
     "name": "stderr",
     "output_type": "stream",
     "text": [
      "c:\\Python Work\\Senior Design Local\\HeartDiseasePrediction\\pipeline\\preprocessing.py:17: FutureWarning: A value is trying to be set on a copy of a DataFrame or Series through chained assignment using an inplace method.\n",
      "The behavior will change in pandas 3.0. This inplace method will never work because the intermediate object on which we are setting values always behaves as a copy.\n",
      "\n",
      "For example, when doing 'df[col].method(value, inplace=True)', try using 'df.method({col: value}, inplace=True)' or df[col] = df[col].method(value) instead, to perform the operation inplace on the original object.\n",
      "\n",
      "\n",
      "  data[\"Age\"].fillna(\n",
      "c:\\Python Work\\Senior Design Local\\HeartDiseasePrediction\\pipeline\\preprocessing.py:27: FutureWarning: Downcasting behavior in `replace` is deprecated and will be removed in a future version. To retain the old behavior, explicitly call `result.infer_objects(copy=False)`. To opt-in to the future behavior, set `pd.set_option('future.no_silent_downcasting', True)`\n",
      "  data[\"Outcome\"] = data[\"Outcome\"].replace(outcome_mapping)\n"
     ]
    }
   ],
   "source": [
    "file = Path(\".\") / \"assets\" / \"the-circor-digiscope-phonocardiogram-dataset-1.0.3\"\n",
    "# Training On CSV data\n",
    "original_data = pd.read_csv(str(file  / \"training_data.csv\"))\n",
    "    \n",
    "model_df = data_wrangling(original_data)\n",
    "X_CSV = one_hot_encoding(model_df, [\n",
    "    'Murmur', \n",
    "    'Systolic murmur quality', \n",
    "    'Systolic murmur pitch',\n",
    "    'Systolic murmur grading', \n",
    "    'Systolic murmur shape', \n",
    "    'Systolic murmur timing',\n",
    "    'Diastolic murmur quality', \n",
    "    'Diastolic murmur pitch',\n",
    "    'Diastolic murmur grading', \n",
    "    'Diastolic murmur shape', \n",
    "    'Diastolic murmur timing',\n",
    "])\n",
    "y_CSV = model_df['Outcome']"
   ]
  },
  {
   "cell_type": "code",
   "execution_count": 5,
   "metadata": {},
   "outputs": [],
   "source": [
    "# Training on actual patient audio files\n",
    "segmentation_table = PhonocardiogramAugmentationTSV(file / \"training_data\")\n",
    "\n",
    "def augmentation(data, sr=4000, window_length_hz=200, window_len_sec =5.):\n",
    "    # This augmentation WILL conflict with new feature of frequency based extraction. ->\n",
    "    x = data\n",
    "    # x = energy_band_augmentation_random_win(x, sr=sr, window_hz_length=window_length_hz)\n",
    "    # x = np.fft.ifft(x).real\n",
    "        \n",
    "    x = audio_random_windowing(x, window_len_sec)\n",
    "    return x"
   ]
  },
  {
   "cell_type": "code",
   "execution_count": 6,
   "metadata": {},
   "outputs": [],
   "source": [
    "def feature_csv(file):\n",
    "    match = re.match(r'(\\d+)_(AV|TV|MV|PV|Phc)', os.path.basename(file))\n",
    "    key = int(match.group(1))\n",
    "    record = X_CSV.loc[original_data[\"Patient ID\"] == key].to_numpy()[0]\n",
    "    return record\n",
    "\n",
    "def compose_with_csv(file, audio_extracted_features_label):\n",
    "    feature, y = audio_extracted_features_label\n",
    "    csv_feat = feature_csv(file)\n",
    "    return np.concatenate([feature, csv_feat], axis=0), y"
   ]
  },
  {
   "cell_type": "code",
   "execution_count": 7,
   "metadata": {},
   "outputs": [
    {
     "name": "stderr",
     "output_type": "stream",
     "text": [
      "100%|██████████| 3060/3060 [00:52<00:00, 58.45it/s]\n"
     ]
    }
   ],
   "source": [
    "lookup = PhonocardiogramByIDDatasetOnlyResult(str(file / \"training_data.csv\"))\n",
    "dset = PhonocardiogramAudioDataset(\n",
    "    file / \"training_data\",\n",
    "    \".wav\",\n",
    "    \"*\", # Everything\n",
    "    transform=lambda f: (augmentation(librosa.load(f)[0],4000,300,3.),int(lookup[f])),\n",
    "    balancing=True,\n",
    "    csvfile=str(file / \"training_data.csv\"),\n",
    "    shuffle=True\n",
    ")\n",
    "\n",
    "loader = DataLoader(\n",
    "    dset, \n",
    "    batch_size=1,\n",
    "    shuffle=True\n",
    ")\n",
    "X = []\n",
    "y = []\n",
    "\n",
    "for resample in range(BATCHING := 1):\n",
    "    for i in tqdm(loader): # very slow \n",
    "        X_i,y_i = i\n",
    "        X.append(X_i)\n",
    "        y.append(y_i)\n",
    "\n",
    "# Creating 1 large matrix to train with classical models\n",
    "X = torch.cat(X, dim=0)\n",
    "y = torch.cat(y, dim=0)"
   ]
  },
  {
   "cell_type": "code",
   "execution_count": 8,
   "metadata": {},
   "outputs": [],
   "source": [
    "from tensorflow.keras.models import Sequential\n",
    "from tensorflow.keras.layers import Conv1D,Lambda, AveragePooling1D, MaxPooling1D, Flatten,Reshape, Dense, Dropout, BatchNormalization, concatenate\n",
    "from tensorflow.keras.optimizers import Adam\n",
    "def get_cnn_model(input_shape):\n",
    "    cnn_model = Sequential()\n",
    "\n",
    "    # Convolutional layer\n",
    "    cnn_model.add(Conv1D(filters=64, kernel_size=3, activation='relu', input_shape=input_shape))\n",
    "    cnn_model.add(BatchNormalization())\n",
    "    cnn_model.add(MaxPooling1D(pool_size=2))\n",
    "    cnn_model.add(Dropout(0.2))\n",
    "\n",
    "    # Another convolutional layer\n",
    "    cnn_model.add(Conv1D(filters=128, kernel_size=3, activation='relu'))\n",
    "    cnn_model.add(BatchNormalization())\n",
    "    cnn_model.add(MaxPooling1D(pool_size=2))\n",
    "    cnn_model.add(Dropout(0.2))\n",
    "\n",
    "    # Third convolutional layer\n",
    "    cnn_model.add(Conv1D(filters=256, kernel_size=3, activation='relu'))\n",
    "    cnn_model.add(BatchNormalization())\n",
    "    cnn_model.add(MaxPooling1D(pool_size=2))\n",
    "    cnn_model.add(Dropout(0.3))\n",
    "\n",
    "    # Flattening followed by dense layers\n",
    "    cnn_model.add(Flatten())\n",
    "    cnn_model.add(Dense(256, activation='relu'))\n",
    "    cnn_model.add(Dropout(0.5))\n",
    "    cnn_model.add(Dense(1, activation='sigmoid'))  \n",
    "    # Compile the model\n",
    "    optimizer = Adam(learning_rate=0.001)\n",
    "    cnn_model.compile(optimizer=optimizer, loss='binary_crossentropy', metrics=['accuracy'])\n",
    "\n",
    "    return cnn_model"
   ]
  },
  {
   "cell_type": "code",
   "execution_count": 11,
   "metadata": {},
   "outputs": [],
   "source": [
    "from sklearn.model_selection import train_test_split\n",
    "from sklearn import metrics\n",
    "from sklearn.metrics import precision_score, recall_score, f1_score\n",
    "def cnn_train(X,y):\n",
    "    X_train, X_temp, y_train, y_temp = train_test_split(X, y, test_size=0.4, random_state=42)\n",
    "    X_val, X_test, y_val, y_test = train_test_split(X_temp, y_temp, test_size=0.5, random_state=42)\n",
    "\n",
    "    cnn = get_cnn_model((X_train.shape[1],1))\n",
    "    cnn.fit(X_train, y_train, epochs=30, batch_size=32, validation_data=(X_val, y_val), verbose=1)\n",
    "\n",
    "    probabilities = cnn.predict(X_test)\n",
    "    threshold = 0.5\n",
    "    y_pred = (probabilities >= threshold).astype(int)\n",
    "\n",
    "    # y_pred = np.round(y_pred).astype(int)  # Convert probabilities to binary labels\n",
    "\n",
    "    acc = metrics.accuracy_score(y_test, y_pred)\n",
    "    fpr, tpr, _thresholds = metrics.roc_curve(y_test, y_pred)\n",
    "    auc = metrics.auc(fpr, tpr)\n",
    "    f1 = f1_score(y_test, y_pred)\n",
    "\n",
    "    print(f\"Accuracy: {acc}\")\n",
    "    print(f\"Auc: {auc}\")\n",
    "    print(f\"F1 Score: {f1}\")\n",
    "    acc = round(acc * 100, 2)\n",
    "    auc = round(auc * 100, 2)\n",
    "    f1 = round(f1 * 100, 2)\n",
    "    return acc, auc, f1"
   ]
  },
  {
   "cell_type": "code",
   "execution_count": null,
   "metadata": {},
   "outputs": [],
   "source": [
    "# Training Pipeline\n",
    "acc, auc, f1 = cnn_train(X,y)"
   ]
  }
 ],
 "metadata": {
  "kernelspec": {
   "display_name": "Python 3",
   "language": "python",
   "name": "python3"
  },
  "language_info": {
   "codemirror_mode": {
    "name": "ipython",
    "version": 3
   },
   "file_extension": ".py",
   "mimetype": "text/x-python",
   "name": "python",
   "nbconvert_exporter": "python",
   "pygments_lexer": "ipython3",
   "version": "3.12.3"
  }
 },
 "nbformat": 4,
 "nbformat_minor": 2
}
