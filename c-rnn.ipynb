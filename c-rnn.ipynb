{
 "cells": [
  {
   "cell_type": "code",
   "execution_count": 1,
   "metadata": {},
   "outputs": [],
   "source": [
    "from pipeline.preprocessing import data_wrangling, one_hot_encoding, feature_bandpower_struct, \\\n",
    "    feature_mfcc, feature_chromagram, feature_melspectrogram\n",
    "from pipeline.dataloader import PhonocardiogramAudioDataset, PhonocardiogramByIDDatasetOnlyResult, \\\n",
    "    PhonocardiogramAugmentationTSV\n",
    "from tqdm import tqdm\n",
    "from pipeline.utils import compose_feature_label, audio_random_windowing\n",
    "import pandas as pd\n",
    "import librosa\n",
    "import numpy as np\n",
    "import os"
   ]
  },
  {
   "cell_type": "code",
   "execution_count": 2,
   "metadata": {},
   "outputs": [],
   "source": [
    "from pathlib import Path\n",
    "from torch.utils.data import DataLoader\n",
    "import torch\n",
    "import re"
   ]
  },
  {
   "cell_type": "code",
   "execution_count": 3,
   "metadata": {},
   "outputs": [
    {
     "name": "stderr",
     "output_type": "stream",
     "text": [
      "c:\\Python Work\\Senior Design Local\\HeartDiseasePrediction\\pipeline\\preprocessing.py:34: FutureWarning: A value is trying to be set on a copy of a DataFrame or Series through chained assignment using an inplace method.\n",
      "The behavior will change in pandas 3.0. This inplace method will never work because the intermediate object on which we are setting values always behaves as a copy.\n",
      "\n",
      "For example, when doing 'df[col].method(value, inplace=True)', try using 'df.method({col: value}, inplace=True)' or df[col] = df[col].method(value) instead, to perform the operation inplace on the original object.\n",
      "\n",
      "\n",
      "  data[\"Age\"].fillna(\n",
      "c:\\Python Work\\Senior Design Local\\HeartDiseasePrediction\\pipeline\\preprocessing.py:44: FutureWarning: Downcasting behavior in `replace` is deprecated and will be removed in a future version. To retain the old behavior, explicitly call `result.infer_objects(copy=False)`. To opt-in to the future behavior, set `pd.set_option('future.no_silent_downcasting', True)`\n",
      "  data[\"Outcome\"] = data[\"Outcome\"].replace(outcome_mapping)\n"
     ]
    }
   ],
   "source": [
    "file = Path(\".\") / \"assets\" / \"the-circor-digiscope-phonocardiogram-dataset-1.0.3\"\n",
    "# Training On CSV data\n",
    "original_data = pd.read_csv(str(file  / \"training_data.csv\"))\n",
    "    \n",
    "model_df = data_wrangling(original_data)\n",
    "X_CSV = one_hot_encoding(model_df, [\n",
    "    'Murmur', \n",
    "    'Systolic murmur quality', \n",
    "    'Systolic murmur pitch',\n",
    "    'Systolic murmur grading', \n",
    "    'Systolic murmur shape', \n",
    "    'Systolic murmur timing',\n",
    "    'Diastolic murmur quality', \n",
    "    'Diastolic murmur pitch',\n",
    "    'Diastolic murmur grading', \n",
    "    'Diastolic murmur shape', \n",
    "    'Diastolic murmur timing',\n",
    "])\n",
    "y_CSV = model_df['Outcome']"
   ]
  },
  {
   "cell_type": "code",
   "execution_count": 4,
   "metadata": {},
   "outputs": [],
   "source": [
    "# Training on actual patient audio files\n",
    "segmentation_table = PhonocardiogramAugmentationTSV(file / \"training_data\")\n",
    "\n",
    "def augmentation(data, sr=4000, window_length_hz=200, window_len_sec =5.):\n",
    "    # This augmentation WILL conflict with new feature of frequency based extraction. ->\n",
    "    x = data\n",
    "    # x = energy_band_augmentation_random_win(x, sr=sr, window_hz_length=window_length_hz)\n",
    "    # x = np.fft.ifft(x).real\n",
    "        \n",
    "    x = audio_random_windowing(x, window_len_sec)\n",
    "    return x"
   ]
  },
  {
   "cell_type": "code",
   "execution_count": 5,
   "metadata": {},
   "outputs": [],
   "source": [
    "def feature_csv(file):\n",
    "    match = re.match(r'(\\d+)_(AV|TV|MV|PV|Phc)', os.path.basename(file))\n",
    "    key = int(match.group(1))\n",
    "    record = X_CSV.loc[original_data[\"Patient ID\"] == key].to_numpy()[0]\n",
    "    return record\n",
    "\n",
    "def compose_with_csv(file, audio_extracted_features_label):\n",
    "    feature, y = audio_extracted_features_label\n",
    "    csv_feat = feature_csv(file)\n",
    "    return np.concatenate([feature, csv_feat], axis=0), y"
   ]
  },
  {
   "cell_type": "code",
   "execution_count": 6,
   "metadata": {},
   "outputs": [],
   "source": [
    "features_fn = [\n",
    "    feature_mfcc,\n",
    "    feature_chromagram, \n",
    "    feature_melspectrogram,\n",
    "    feature_bandpower_struct(4000,200,0.7),\n",
    "]"
   ]
  },
  {
   "cell_type": "code",
   "execution_count": null,
   "metadata": {},
   "outputs": [],
   "source": []
  },
  {
   "cell_type": "code",
   "execution_count": 7,
   "metadata": {},
   "outputs": [
    {
     "name": "stderr",
     "output_type": "stream",
     "text": [
      "  0%|          | 8/3060 [00:01<05:21,  9.49it/s]C:\\Users\\songy\\AppData\\Local\\Packages\\PythonSoftwareFoundation.Python.3.12_qbz5n2kfra8p0\\LocalCache\\local-packages\\Python312\\site-packages\\librosa\\core\\pitch.py:101: UserWarning: Trying to estimate tuning from empty frequency set.\n",
      "  return pitch_tuning(\n",
      "100%|██████████| 3060/3060 [00:42<00:00, 72.41it/s]\n"
     ]
    }
   ],
   "source": [
    "lookup = PhonocardiogramByIDDatasetOnlyResult(str(file / \"training_data.csv\"))\n",
    "if features_fn == []:\n",
    "    dset = PhonocardiogramAudioDataset(\n",
    "        file / \"training_data\",\n",
    "        \".wav\",\n",
    "        \"*\", # Everything\n",
    "        transform=lambda f: (augmentation(librosa.load(f)[0],4000,300,3.),int(lookup[f])),\n",
    "        balancing=True,\n",
    "        csvfile=str(file / \"training_data.csv\"),\n",
    "        shuffle=True\n",
    "    )\n",
    "else:\n",
    "    dset = PhonocardiogramAudioDataset(\n",
    "        file / \"training_data\",\n",
    "        \".wav\",\n",
    "        \"*\", # Everything\n",
    "        transform=lambda f : compose_with_csv(f, compose_feature_label(\n",
    "            f,\n",
    "            lookup, \n",
    "            features_fn,\n",
    "            lambda ary_data : augmentation(ary_data,4000,300,3.))\n",
    "        ),  \n",
    "        balancing=True,\n",
    "        csvfile=str(file / \"training_data.csv\"),\n",
    "        shuffle=True\n",
    "    )\n",
    "\n",
    "loader = DataLoader(\n",
    "    dset, \n",
    "    batch_size=1,\n",
    "    shuffle=True\n",
    ")\n",
    "X = []\n",
    "y = []\n",
    "\n",
    "for resample in range(BATCHING := 1):\n",
    "    for i in tqdm(loader): # very slow \n",
    "        X_i,y_i = i\n",
    "        X.append(X_i)\n",
    "        y.append(y_i)\n",
    "\n",
    "# Creating 1 large matrix to train with classical models\n",
    "X = torch.cat(X, dim=0)\n",
    "y = torch.cat(y, dim=0)"
   ]
  },
  {
   "cell_type": "code",
   "execution_count": 8,
   "metadata": {},
   "outputs": [],
   "source": [
    "from tensorflow.keras.models import Sequential\n",
    "from tensorflow.keras.layers import Conv1D, MaxPooling1D, Flatten, Dense, Dropout, BatchNormalization\n",
    "from tensorflow.keras.optimizers import Adam\n",
    "from tensorflow.keras.callbacks import EarlyStopping\n",
    "\n",
    "\n",
    "\n",
    "def get_cnn_model(input_shape):\n",
    "    cnn_model = Sequential()\n",
    "\n",
    "    # Convolutional layer\n",
    "    cnn_model.add(Conv1D(filters=64, kernel_size=3, activation='relu', input_shape=input_shape))\n",
    "    cnn_model.add(BatchNormalization())\n",
    "    cnn_model.add(MaxPooling1D(pool_size=2))\n",
    "    cnn_model.add(Dropout(0.2))\n",
    "\n",
    "    # Another convolutional layer\n",
    "    cnn_model.add(Conv1D(filters=128, kernel_size=3, activation='relu'))\n",
    "    cnn_model.add(BatchNormalization())\n",
    "    cnn_model.add(MaxPooling1D(pool_size=2))\n",
    "    cnn_model.add(Dropout(0.2))\n",
    "\n",
    "    # # Third convolutional layer\n",
    "    # cnn_model.add(Conv1D(filters=256, kernel_size=3, activation='relu'))\n",
    "    # cnn_model.add(BatchNormalization())\n",
    "    # cnn_model.add(MaxPooling1D(pool_size=2))\n",
    "    # cnn_model.add(Dropout(0.3))\n",
    "\n",
    "    # Flattening followed by dense layers\n",
    "    cnn_model.add(Flatten())\n",
    "    cnn_model.add(Dense(256, activation='relu'))\n",
    "    cnn_model.add(Dropout(0.5))\n",
    "    cnn_model.add(Dense(1, activation='sigmoid'))  \n",
    "    # Compile the model\n",
    "    optimizer = Adam(learning_rate=0.001)\n",
    "    cnn_model.compile(optimizer=optimizer, loss='binary_crossentropy', metrics=['accuracy'])\n",
    "    early_stop = EarlyStopping(monitor='val_loss', patience=8, restore_best_weights=True)\n",
    "\n",
    "    return cnn_model, early_stop"
   ]
  },
  {
   "cell_type": "code",
   "execution_count": 9,
   "metadata": {},
   "outputs": [],
   "source": [
    "from tensorflow.keras.models import Sequential\n",
    "from tensorflow.keras.layers import Conv1D, MaxPooling1D, Flatten, Dense, Dropout, BatchNormalization, LSTM\n",
    "from tensorflow.keras.optimizers import Adam\n",
    "from tensorflow.keras.callbacks import EarlyStopping\n",
    "\n",
    "def get_convrnn_model(input_shape):\n",
    "    convrnn_model = Sequential()\n",
    "\n",
    "    # Convolutional layer\n",
    "    convrnn_model.add(Conv1D(filters=64, kernel_size=3, activation='relu', input_shape=input_shape))\n",
    "    convrnn_model.add(BatchNormalization())\n",
    "    convrnn_model.add(MaxPooling1D(pool_size=2))\n",
    "    convrnn_model.add(Dropout(0.2))\n",
    "\n",
    "    # Another convolutional layer\n",
    "    convrnn_model.add(Conv1D(filters=128, kernel_size=3, activation='relu'))\n",
    "    convrnn_model.add(BatchNormalization())\n",
    "    convrnn_model.add(MaxPooling1D(pool_size=2))\n",
    "    convrnn_model.add(Dropout(0.2))\n",
    "\n",
    "    # Recurrent layer (LSTM)\n",
    "    convrnn_model.add(LSTM(64, return_sequences=True))\n",
    "    convrnn_model.add(LSTM(32, return_sequences=True))\n",
    "\n",
    "    # Flattening followed by dense layers\n",
    "    convrnn_model.add(Flatten())\n",
    "    convrnn_model.add(Dense(256, activation='relu'))\n",
    "    convrnn_model.add(Dropout(0.5))\n",
    "    convrnn_model.add(Dense(1, activation='sigmoid'))\n",
    "\n",
    "    # Compile the model\n",
    "    optimizer = Adam(learning_rate=0.001)\n",
    "    convrnn_model.compile(optimizer=optimizer, loss='binary_crossentropy', metrics=['accuracy'])\n",
    "\n",
    "    early_stop = EarlyStopping(monitor='val_loss', patience=8, restore_best_weights=True)\n",
    "    return convrnn_model, early_stop"
   ]
  },
  {
   "cell_type": "code",
   "execution_count": 10,
   "metadata": {},
   "outputs": [],
   "source": [
    "from sklearn.model_selection import train_test_split\n",
    "from sklearn import metrics\n",
    "from sklearn.metrics import precision_score, recall_score, f1_score\n",
    "def cnn_train(X,y):\n",
    "    X_train, X_temp, y_train, y_temp = train_test_split(X, y, test_size=0.4, random_state=42)\n",
    "    X_val, X_test, y_val, y_test = train_test_split(X_temp, y_temp, test_size=0.5, random_state=42)\n",
    "\n",
    "    cnn, early_stop = get_cnn_model((X_train.shape[1],1))\n",
    "    # cnn.fit(X_train, y_train, epochs=100, batch_size=32, validation_data=(X_val, y_val), verbose=1, callbacks=[early_stop])\n",
    "    cnn.fit(X_train, y_train, epochs=30, batch_size=32, validation_data=(X_val, y_val), verbose=1)\n",
    "\n",
    "    probabilities = cnn.predict(X_test)\n",
    "    threshold = 0.5\n",
    "    y_pred = (probabilities >= threshold).astype(int)\n",
    "\n",
    "    # y_pred = np.round(y_pred).astype(int)  # Convert probabilities to binary labels\n",
    "\n",
    "    acc = metrics.accuracy_score(y_test, y_pred)\n",
    "    fpr, tpr, _thresholds = metrics.roc_curve(y_test, y_pred)\n",
    "    auc = metrics.auc(fpr, tpr)\n",
    "    f1 = f1_score(y_test, y_pred)\n",
    "\n",
    "    print(f\"Accuracy: {acc}\")\n",
    "    print(f\"Auc: {auc}\")\n",
    "    print(f\"F1 Score: {f1}\")\n",
    "    acc = round(acc * 100, 2)\n",
    "    auc = round(auc * 100, 2)\n",
    "    f1 = round(f1 * 100, 2)\n",
    "    return acc, auc, f1\n",
    "\n",
    "def convrnn_train(X,y):\n",
    "    X_train, X_temp, y_train, y_temp = train_test_split(X, y, test_size=0.4, random_state=42)\n",
    "    X_val, X_test, y_val, y_test = train_test_split(X_temp, y_temp, test_size=0.5, random_state=42)\n",
    "\n",
    "    convrnn, early_stop = get_convrnn_model((X_train.shape[1],1))\n",
    "    # convrnn.fit(X_train, y_train, validation_data=(X_val, y_val), epochs=100, callbacks=[early_stop])\n",
    "    convrnn.fit(X_train, y_train, epochs=30, batch_size=32, validation_data=(X_val, y_val), verbose=1)\n",
    "    probabilities = convrnn.predict(X_test)\n",
    "    threshold = 0.5\n",
    "    y_pred = (probabilities >= threshold).astype(int)\n",
    "\n",
    "    # y_pred = np.round(y_pred).astype(int)  # Convert probabilities to binary labels\n",
    "\n",
    "    acc = metrics.accuracy_score(y_test, y_pred)\n",
    "    fpr, tpr, _thresholds = metrics.roc_curve(y_test, y_pred)\n",
    "    auc = metrics.auc(fpr, tpr)\n",
    "    f1 = f1_score(y_test, y_pred)\n",
    "\n",
    "    print(f\"Accuracy: {acc}\")\n",
    "    print(f\"Auc: {auc}\")\n",
    "    print(f\"F1 Score: {f1}\")\n",
    "    acc = round(acc * 100, 2)\n",
    "    auc = round(auc * 100, 2)\n",
    "    f1 = round(f1 * 100, 2)\n",
    "    return acc, auc, f1"
   ]
  },
  {
   "cell_type": "code",
   "execution_count": 11,
   "metadata": {},
   "outputs": [
    {
     "name": "stdout",
     "output_type": "stream",
     "text": [
      "Epoch 1/30\n"
     ]
    },
    {
     "name": "stderr",
     "output_type": "stream",
     "text": [
      "C:\\Users\\songy\\AppData\\Local\\Packages\\PythonSoftwareFoundation.Python.3.12_qbz5n2kfra8p0\\LocalCache\\local-packages\\Python312\\site-packages\\keras\\src\\layers\\convolutional\\base_conv.py:99: UserWarning: Do not pass an `input_shape`/`input_dim` argument to a layer. When using Sequential models, prefer using an `Input(shape)` object as the first layer in the model instead.\n",
      "  super().__init__(\n"
     ]
    },
    {
     "name": "stdout",
     "output_type": "stream",
     "text": [
      "\u001b[1m58/58\u001b[0m \u001b[32m━━━━━━━━━━━━━━━━━━━━\u001b[0m\u001b[37m\u001b[0m \u001b[1m2s\u001b[0m 14ms/step - accuracy: 0.5147 - loss: 1.6742 - val_accuracy: 0.5310 - val_loss: 0.6852\n",
      "Epoch 2/30\n",
      "\u001b[1m58/58\u001b[0m \u001b[32m━━━━━━━━━━━━━━━━━━━━\u001b[0m\u001b[37m\u001b[0m \u001b[1m1s\u001b[0m 12ms/step - accuracy: 0.5480 - loss: 0.7241 - val_accuracy: 0.4788 - val_loss: 0.7261\n",
      "Epoch 3/30\n",
      "\u001b[1m58/58\u001b[0m \u001b[32m━━━━━━━━━━━━━━━━━━━━\u001b[0m\u001b[37m\u001b[0m \u001b[1m1s\u001b[0m 12ms/step - accuracy: 0.5321 - loss: 0.7297 - val_accuracy: 0.4739 - val_loss: 0.7257\n",
      "Epoch 4/30\n",
      "\u001b[1m58/58\u001b[0m \u001b[32m━━━━━━━━━━━━━━━━━━━━\u001b[0m\u001b[37m\u001b[0m \u001b[1m1s\u001b[0m 12ms/step - accuracy: 0.5530 - loss: 0.6866 - val_accuracy: 0.4837 - val_loss: 0.7209\n",
      "Epoch 5/30\n",
      "\u001b[1m58/58\u001b[0m \u001b[32m━━━━━━━━━━━━━━━━━━━━\u001b[0m\u001b[37m\u001b[0m \u001b[1m1s\u001b[0m 11ms/step - accuracy: 0.5809 - loss: 0.6789 - val_accuracy: 0.4788 - val_loss: 0.7849\n",
      "Epoch 6/30\n",
      "\u001b[1m58/58\u001b[0m \u001b[32m━━━━━━━━━━━━━━━━━━━━\u001b[0m\u001b[37m\u001b[0m \u001b[1m1s\u001b[0m 12ms/step - accuracy: 0.5993 - loss: 0.6547 - val_accuracy: 0.4820 - val_loss: 0.7297\n",
      "Epoch 7/30\n",
      "\u001b[1m58/58\u001b[0m \u001b[32m━━━━━━━━━━━━━━━━━━━━\u001b[0m\u001b[37m\u001b[0m \u001b[1m1s\u001b[0m 11ms/step - accuracy: 0.6317 - loss: 0.6416 - val_accuracy: 0.5033 - val_loss: 0.7030\n",
      "Epoch 8/30\n",
      "\u001b[1m58/58\u001b[0m \u001b[32m━━━━━━━━━━━━━━━━━━━━\u001b[0m\u001b[37m\u001b[0m \u001b[1m1s\u001b[0m 11ms/step - accuracy: 0.6199 - loss: 0.6538 - val_accuracy: 0.4788 - val_loss: 0.7461\n",
      "Epoch 9/30\n",
      "\u001b[1m58/58\u001b[0m \u001b[32m━━━━━━━━━━━━━━━━━━━━\u001b[0m\u001b[37m\u001b[0m \u001b[1m1s\u001b[0m 11ms/step - accuracy: 0.5944 - loss: 0.6647 - val_accuracy: 0.4788 - val_loss: 0.8229\n",
      "Epoch 10/30\n",
      "\u001b[1m58/58\u001b[0m \u001b[32m━━━━━━━━━━━━━━━━━━━━\u001b[0m\u001b[37m\u001b[0m \u001b[1m1s\u001b[0m 11ms/step - accuracy: 0.5901 - loss: 0.6542 - val_accuracy: 0.4755 - val_loss: 0.7729\n",
      "Epoch 11/30\n",
      "\u001b[1m58/58\u001b[0m \u001b[32m━━━━━━━━━━━━━━━━━━━━\u001b[0m\u001b[37m\u001b[0m \u001b[1m1s\u001b[0m 11ms/step - accuracy: 0.6106 - loss: 0.6373 - val_accuracy: 0.4771 - val_loss: 0.7275\n",
      "Epoch 12/30\n",
      "\u001b[1m58/58\u001b[0m \u001b[32m━━━━━━━━━━━━━━━━━━━━\u001b[0m\u001b[37m\u001b[0m \u001b[1m1s\u001b[0m 12ms/step - accuracy: 0.6241 - loss: 0.6475 - val_accuracy: 0.5458 - val_loss: 0.6529\n",
      "Epoch 13/30\n",
      "\u001b[1m58/58\u001b[0m \u001b[32m━━━━━━━━━━━━━━━━━━━━\u001b[0m\u001b[37m\u001b[0m \u001b[1m1s\u001b[0m 12ms/step - accuracy: 0.6256 - loss: 0.6182 - val_accuracy: 0.4771 - val_loss: 0.8122\n",
      "Epoch 14/30\n",
      "\u001b[1m58/58\u001b[0m \u001b[32m━━━━━━━━━━━━━━━━━━━━\u001b[0m\u001b[37m\u001b[0m \u001b[1m1s\u001b[0m 13ms/step - accuracy: 0.6451 - loss: 0.6193 - val_accuracy: 0.4788 - val_loss: 0.7488\n",
      "Epoch 15/30\n",
      "\u001b[1m58/58\u001b[0m \u001b[32m━━━━━━━━━━━━━━━━━━━━\u001b[0m\u001b[37m\u001b[0m \u001b[1m1s\u001b[0m 13ms/step - accuracy: 0.6230 - loss: 0.6483 - val_accuracy: 0.4755 - val_loss: 0.8481\n",
      "Epoch 16/30\n",
      "\u001b[1m58/58\u001b[0m \u001b[32m━━━━━━━━━━━━━━━━━━━━\u001b[0m\u001b[37m\u001b[0m \u001b[1m1s\u001b[0m 12ms/step - accuracy: 0.6242 - loss: 0.6382 - val_accuracy: 0.4984 - val_loss: 0.6900\n",
      "Epoch 17/30\n",
      "\u001b[1m58/58\u001b[0m \u001b[32m━━━━━━━━━━━━━━━━━━━━\u001b[0m\u001b[37m\u001b[0m \u001b[1m1s\u001b[0m 11ms/step - accuracy: 0.6297 - loss: 0.6467 - val_accuracy: 0.4837 - val_loss: 0.7424\n",
      "Epoch 18/30\n",
      "\u001b[1m58/58\u001b[0m \u001b[32m━━━━━━━━━━━━━━━━━━━━\u001b[0m\u001b[37m\u001b[0m \u001b[1m1s\u001b[0m 11ms/step - accuracy: 0.6287 - loss: 0.6177 - val_accuracy: 0.4886 - val_loss: 0.7947\n",
      "Epoch 19/30\n",
      "\u001b[1m58/58\u001b[0m \u001b[32m━━━━━━━━━━━━━━━━━━━━\u001b[0m\u001b[37m\u001b[0m \u001b[1m1s\u001b[0m 11ms/step - accuracy: 0.6398 - loss: 0.6182 - val_accuracy: 0.4804 - val_loss: 0.8610\n",
      "Epoch 20/30\n",
      "\u001b[1m58/58\u001b[0m \u001b[32m━━━━━━━━━━━━━━━━━━━━\u001b[0m\u001b[37m\u001b[0m \u001b[1m1s\u001b[0m 12ms/step - accuracy: 0.6202 - loss: 0.6384 - val_accuracy: 0.4755 - val_loss: 0.7668\n",
      "Epoch 21/30\n",
      "\u001b[1m58/58\u001b[0m \u001b[32m━━━━━━━━━━━━━━━━━━━━\u001b[0m\u001b[37m\u001b[0m \u001b[1m1s\u001b[0m 12ms/step - accuracy: 0.6369 - loss: 0.6193 - val_accuracy: 0.6438 - val_loss: 0.6260\n",
      "Epoch 22/30\n",
      "\u001b[1m58/58\u001b[0m \u001b[32m━━━━━━━━━━━━━━━━━━━━\u001b[0m\u001b[37m\u001b[0m \u001b[1m1s\u001b[0m 12ms/step - accuracy: 0.6405 - loss: 0.6273 - val_accuracy: 0.4886 - val_loss: 0.7785\n",
      "Epoch 23/30\n",
      "\u001b[1m58/58\u001b[0m \u001b[32m━━━━━━━━━━━━━━━━━━━━\u001b[0m\u001b[37m\u001b[0m \u001b[1m1s\u001b[0m 12ms/step - accuracy: 0.6467 - loss: 0.6184 - val_accuracy: 0.4886 - val_loss: 0.8084\n",
      "Epoch 24/30\n",
      "\u001b[1m58/58\u001b[0m \u001b[32m━━━━━━━━━━━━━━━━━━━━\u001b[0m\u001b[37m\u001b[0m \u001b[1m1s\u001b[0m 11ms/step - accuracy: 0.6381 - loss: 0.6158 - val_accuracy: 0.4788 - val_loss: 0.7545\n",
      "Epoch 25/30\n",
      "\u001b[1m58/58\u001b[0m \u001b[32m━━━━━━━━━━━━━━━━━━━━\u001b[0m\u001b[37m\u001b[0m \u001b[1m1s\u001b[0m 11ms/step - accuracy: 0.6370 - loss: 0.6223 - val_accuracy: 0.4918 - val_loss: 0.8099\n",
      "Epoch 26/30\n",
      "\u001b[1m58/58\u001b[0m \u001b[32m━━━━━━━━━━━━━━━━━━━━\u001b[0m\u001b[37m\u001b[0m \u001b[1m1s\u001b[0m 11ms/step - accuracy: 0.6374 - loss: 0.6298 - val_accuracy: 0.4837 - val_loss: 0.7813\n",
      "Epoch 27/30\n",
      "\u001b[1m58/58\u001b[0m \u001b[32m━━━━━━━━━━━━━━━━━━━━\u001b[0m\u001b[37m\u001b[0m \u001b[1m1s\u001b[0m 11ms/step - accuracy: 0.6216 - loss: 0.6227 - val_accuracy: 0.5098 - val_loss: 0.7435\n",
      "Epoch 28/30\n",
      "\u001b[1m58/58\u001b[0m \u001b[32m━━━━━━━━━━━━━━━━━━━━\u001b[0m\u001b[37m\u001b[0m \u001b[1m1s\u001b[0m 13ms/step - accuracy: 0.6168 - loss: 0.6320 - val_accuracy: 0.4804 - val_loss: 0.8058\n",
      "Epoch 29/30\n",
      "\u001b[1m58/58\u001b[0m \u001b[32m━━━━━━━━━━━━━━━━━━━━\u001b[0m\u001b[37m\u001b[0m \u001b[1m1s\u001b[0m 12ms/step - accuracy: 0.6399 - loss: 0.6346 - val_accuracy: 0.4804 - val_loss: 1.0169\n",
      "Epoch 30/30\n",
      "\u001b[1m58/58\u001b[0m \u001b[32m━━━━━━━━━━━━━━━━━━━━\u001b[0m\u001b[37m\u001b[0m \u001b[1m1s\u001b[0m 12ms/step - accuracy: 0.6304 - loss: 0.6213 - val_accuracy: 0.5147 - val_loss: 0.7289\n",
      "\u001b[1m20/20\u001b[0m \u001b[32m━━━━━━━━━━━━━━━━━━━━\u001b[0m\u001b[37m\u001b[0m \u001b[1m0s\u001b[0m 6ms/step\n",
      "Accuracy: 0.565359477124183\n",
      "Auc: 0.5619953001495407\n",
      "F1 Score: 0.6563307493540051\n"
     ]
    },
    {
     "data": {
      "text/plain": [
       "(56.54, 56.2, 65.63)"
      ]
     },
     "execution_count": 11,
     "metadata": {},
     "output_type": "execute_result"
    }
   ],
   "source": [
    "# Training Pipeline\n",
    "cnn_train(X,y)"
   ]
  },
  {
   "cell_type": "code",
   "execution_count": 12,
   "metadata": {},
   "outputs": [
    {
     "name": "stdout",
     "output_type": "stream",
     "text": [
      "Epoch 1/30\n"
     ]
    },
    {
     "name": "stderr",
     "output_type": "stream",
     "text": [
      "C:\\Users\\songy\\AppData\\Local\\Packages\\PythonSoftwareFoundation.Python.3.12_qbz5n2kfra8p0\\LocalCache\\local-packages\\Python312\\site-packages\\keras\\src\\layers\\convolutional\\base_conv.py:99: UserWarning: Do not pass an `input_shape`/`input_dim` argument to a layer. When using Sequential models, prefer using an `Input(shape)` object as the first layer in the model instead.\n",
      "  super().__init__(\n"
     ]
    },
    {
     "name": "stdout",
     "output_type": "stream",
     "text": [
      "\u001b[1m58/58\u001b[0m \u001b[32m━━━━━━━━━━━━━━━━━━━━\u001b[0m\u001b[37m\u001b[0m \u001b[1m4s\u001b[0m 25ms/step - accuracy: 0.5230 - loss: 0.6967 - val_accuracy: 0.4788 - val_loss: 0.7699\n",
      "Epoch 2/30\n",
      "\u001b[1m58/58\u001b[0m \u001b[32m━━━━━━━━━━━━━━━━━━━━\u001b[0m\u001b[37m\u001b[0m \u001b[1m1s\u001b[0m 21ms/step - accuracy: 0.5781 - loss: 0.6622 - val_accuracy: 0.4788 - val_loss: 0.7618\n",
      "Epoch 3/30\n",
      "\u001b[1m58/58\u001b[0m \u001b[32m━━━━━━━━━━━━━━━━━━━━\u001b[0m\u001b[37m\u001b[0m \u001b[1m1s\u001b[0m 20ms/step - accuracy: 0.6074 - loss: 0.6395 - val_accuracy: 0.4788 - val_loss: 0.9615\n",
      "Epoch 4/30\n",
      "\u001b[1m58/58\u001b[0m \u001b[32m━━━━━━━━━━━━━━━━━━━━\u001b[0m\u001b[37m\u001b[0m \u001b[1m1s\u001b[0m 21ms/step - accuracy: 0.6004 - loss: 0.6475 - val_accuracy: 0.4788 - val_loss: 0.7977\n",
      "Epoch 5/30\n",
      "\u001b[1m58/58\u001b[0m \u001b[32m━━━━━━━━━━━━━━━━━━━━\u001b[0m\u001b[37m\u001b[0m \u001b[1m1s\u001b[0m 22ms/step - accuracy: 0.6423 - loss: 0.6261 - val_accuracy: 0.4771 - val_loss: 0.7347\n",
      "Epoch 6/30\n",
      "\u001b[1m58/58\u001b[0m \u001b[32m━━━━━━━━━━━━━━━━━━━━\u001b[0m\u001b[37m\u001b[0m \u001b[1m1s\u001b[0m 23ms/step - accuracy: 0.6296 - loss: 0.6259 - val_accuracy: 0.4788 - val_loss: 0.8506\n",
      "Epoch 7/30\n",
      "\u001b[1m58/58\u001b[0m \u001b[32m━━━━━━━━━━━━━━━━━━━━\u001b[0m\u001b[37m\u001b[0m \u001b[1m1s\u001b[0m 22ms/step - accuracy: 0.6312 - loss: 0.6261 - val_accuracy: 0.4788 - val_loss: 0.7859\n",
      "Epoch 8/30\n",
      "\u001b[1m58/58\u001b[0m \u001b[32m━━━━━━━━━━━━━━━━━━━━\u001b[0m\u001b[37m\u001b[0m \u001b[1m1s\u001b[0m 21ms/step - accuracy: 0.6173 - loss: 0.6384 - val_accuracy: 0.4788 - val_loss: 1.0423\n",
      "Epoch 9/30\n",
      "\u001b[1m58/58\u001b[0m \u001b[32m━━━━━━━━━━━━━━━━━━━━\u001b[0m\u001b[37m\u001b[0m \u001b[1m1s\u001b[0m 20ms/step - accuracy: 0.6531 - loss: 0.6215 - val_accuracy: 0.4788 - val_loss: 0.8564\n",
      "Epoch 10/30\n",
      "\u001b[1m58/58\u001b[0m \u001b[32m━━━━━━━━━━━━━━━━━━━━\u001b[0m\u001b[37m\u001b[0m \u001b[1m1s\u001b[0m 21ms/step - accuracy: 0.6266 - loss: 0.6316 - val_accuracy: 0.4788 - val_loss: 0.7456\n",
      "Epoch 11/30\n",
      "\u001b[1m58/58\u001b[0m \u001b[32m━━━━━━━━━━━━━━━━━━━━\u001b[0m\u001b[37m\u001b[0m \u001b[1m1s\u001b[0m 22ms/step - accuracy: 0.6335 - loss: 0.6375 - val_accuracy: 0.4788 - val_loss: 0.9101\n",
      "Epoch 12/30\n",
      "\u001b[1m58/58\u001b[0m \u001b[32m━━━━━━━━━━━━━━━━━━━━\u001b[0m\u001b[37m\u001b[0m \u001b[1m1s\u001b[0m 23ms/step - accuracy: 0.6521 - loss: 0.6238 - val_accuracy: 0.4788 - val_loss: 0.8885\n",
      "Epoch 13/30\n",
      "\u001b[1m58/58\u001b[0m \u001b[32m━━━━━━━━━━━━━━━━━━━━\u001b[0m\u001b[37m\u001b[0m \u001b[1m1s\u001b[0m 21ms/step - accuracy: 0.6397 - loss: 0.6206 - val_accuracy: 0.4788 - val_loss: 0.8173\n",
      "Epoch 14/30\n",
      "\u001b[1m58/58\u001b[0m \u001b[32m━━━━━━━━━━━━━━━━━━━━\u001b[0m\u001b[37m\u001b[0m \u001b[1m1s\u001b[0m 22ms/step - accuracy: 0.6379 - loss: 0.6125 - val_accuracy: 0.4804 - val_loss: 0.7251\n",
      "Epoch 15/30\n",
      "\u001b[1m58/58\u001b[0m \u001b[32m━━━━━━━━━━━━━━━━━━━━\u001b[0m\u001b[37m\u001b[0m \u001b[1m1s\u001b[0m 24ms/step - accuracy: 0.6449 - loss: 0.6214 - val_accuracy: 0.5408 - val_loss: 0.6688\n",
      "Epoch 16/30\n",
      "\u001b[1m58/58\u001b[0m \u001b[32m━━━━━━━━━━━━━━━━━━━━\u001b[0m\u001b[37m\u001b[0m \u001b[1m1s\u001b[0m 23ms/step - accuracy: 0.6270 - loss: 0.6298 - val_accuracy: 0.4788 - val_loss: 0.9557\n",
      "Epoch 17/30\n",
      "\u001b[1m58/58\u001b[0m \u001b[32m━━━━━━━━━━━━━━━━━━━━\u001b[0m\u001b[37m\u001b[0m \u001b[1m1s\u001b[0m 21ms/step - accuracy: 0.6480 - loss: 0.6178 - val_accuracy: 0.4788 - val_loss: 0.8162\n",
      "Epoch 18/30\n",
      "\u001b[1m58/58\u001b[0m \u001b[32m━━━━━━━━━━━━━━━━━━━━\u001b[0m\u001b[37m\u001b[0m \u001b[1m1s\u001b[0m 22ms/step - accuracy: 0.6604 - loss: 0.6134 - val_accuracy: 0.4788 - val_loss: 0.9231\n",
      "Epoch 19/30\n",
      "\u001b[1m58/58\u001b[0m \u001b[32m━━━━━━━━━━━━━━━━━━━━\u001b[0m\u001b[37m\u001b[0m \u001b[1m1s\u001b[0m 22ms/step - accuracy: 0.6561 - loss: 0.6189 - val_accuracy: 0.4788 - val_loss: 0.8141\n",
      "Epoch 20/30\n",
      "\u001b[1m58/58\u001b[0m \u001b[32m━━━━━━━━━━━━━━━━━━━━\u001b[0m\u001b[37m\u001b[0m \u001b[1m1s\u001b[0m 21ms/step - accuracy: 0.6530 - loss: 0.6169 - val_accuracy: 0.4788 - val_loss: 0.8486\n",
      "Epoch 21/30\n",
      "\u001b[1m58/58\u001b[0m \u001b[32m━━━━━━━━━━━━━━━━━━━━\u001b[0m\u001b[37m\u001b[0m \u001b[1m1s\u001b[0m 21ms/step - accuracy: 0.6381 - loss: 0.6131 - val_accuracy: 0.4788 - val_loss: 0.8832\n",
      "Epoch 22/30\n",
      "\u001b[1m58/58\u001b[0m \u001b[32m━━━━━━━━━━━━━━━━━━━━\u001b[0m\u001b[37m\u001b[0m \u001b[1m1s\u001b[0m 22ms/step - accuracy: 0.6522 - loss: 0.6061 - val_accuracy: 0.4788 - val_loss: 1.0711\n",
      "Epoch 23/30\n",
      "\u001b[1m58/58\u001b[0m \u001b[32m━━━━━━━━━━━━━━━━━━━━\u001b[0m\u001b[37m\u001b[0m \u001b[1m1s\u001b[0m 21ms/step - accuracy: 0.6561 - loss: 0.6249 - val_accuracy: 0.4788 - val_loss: 1.0184\n",
      "Epoch 24/30\n",
      "\u001b[1m58/58\u001b[0m \u001b[32m━━━━━━━━━━━━━━━━━━━━\u001b[0m\u001b[37m\u001b[0m \u001b[1m1s\u001b[0m 21ms/step - accuracy: 0.6431 - loss: 0.6189 - val_accuracy: 0.4788 - val_loss: 0.9043\n",
      "Epoch 25/30\n",
      "\u001b[1m58/58\u001b[0m \u001b[32m━━━━━━━━━━━━━━━━━━━━\u001b[0m\u001b[37m\u001b[0m \u001b[1m1s\u001b[0m 22ms/step - accuracy: 0.6474 - loss: 0.6043 - val_accuracy: 0.4771 - val_loss: 0.9360\n",
      "Epoch 26/30\n",
      "\u001b[1m58/58\u001b[0m \u001b[32m━━━━━━━━━━━━━━━━━━━━\u001b[0m\u001b[37m\u001b[0m \u001b[1m1s\u001b[0m 21ms/step - accuracy: 0.6571 - loss: 0.6050 - val_accuracy: 0.4788 - val_loss: 0.9695\n",
      "Epoch 27/30\n",
      "\u001b[1m58/58\u001b[0m \u001b[32m━━━━━━━━━━━━━━━━━━━━\u001b[0m\u001b[37m\u001b[0m \u001b[1m1s\u001b[0m 20ms/step - accuracy: 0.6687 - loss: 0.5976 - val_accuracy: 0.4788 - val_loss: 1.0945\n",
      "Epoch 28/30\n",
      "\u001b[1m58/58\u001b[0m \u001b[32m━━━━━━━━━━━━━━━━━━━━\u001b[0m\u001b[37m\u001b[0m \u001b[1m1s\u001b[0m 20ms/step - accuracy: 0.6664 - loss: 0.6058 - val_accuracy: 0.5065 - val_loss: 0.7424\n",
      "Epoch 29/30\n",
      "\u001b[1m58/58\u001b[0m \u001b[32m━━━━━━━━━━━━━━━━━━━━\u001b[0m\u001b[37m\u001b[0m \u001b[1m1s\u001b[0m 20ms/step - accuracy: 0.6256 - loss: 0.6285 - val_accuracy: 0.4771 - val_loss: 0.9019\n",
      "Epoch 30/30\n",
      "\u001b[1m58/58\u001b[0m \u001b[32m━━━━━━━━━━━━━━━━━━━━\u001b[0m\u001b[37m\u001b[0m \u001b[1m1s\u001b[0m 19ms/step - accuracy: 0.6617 - loss: 0.6029 - val_accuracy: 0.4886 - val_loss: 0.7869\n",
      "\u001b[1m20/20\u001b[0m \u001b[32m━━━━━━━━━━━━━━━━━━━━\u001b[0m\u001b[37m\u001b[0m \u001b[1m1s\u001b[0m 18ms/step\n",
      "Accuracy: 0.5098039215686274\n",
      "Auc: 0.5034821619312112\n",
      "F1 Score: 0.6710526315789473\n"
     ]
    },
    {
     "data": {
      "text/plain": [
       "(50.98, 50.35, 67.11)"
      ]
     },
     "execution_count": 12,
     "metadata": {},
     "output_type": "execute_result"
    }
   ],
   "source": [
    "## \n",
    "convrnn_train(X,y)"
   ]
  },
  {
   "cell_type": "code",
   "execution_count": 33,
   "metadata": {},
   "outputs": [
    {
     "name": "stdout",
     "output_type": "stream",
     "text": [
      "Epoch 1/100\n"
     ]
    },
    {
     "name": "stderr",
     "output_type": "stream",
     "text": [
      "C:\\Users\\songy\\AppData\\Local\\Packages\\PythonSoftwareFoundation.Python.3.12_qbz5n2kfra8p0\\LocalCache\\local-packages\\Python312\\site-packages\\keras\\src\\layers\\convolutional\\base_conv.py:99: UserWarning: Do not pass an `input_shape`/`input_dim` argument to a layer. When using Sequential models, prefer using an `Input(shape)` object as the first layer in the model instead.\n",
      "  super().__init__(\n"
     ]
    },
    {
     "name": "stdout",
     "output_type": "stream",
     "text": [
      "\u001b[1m58/58\u001b[0m \u001b[32m━━━━━━━━━━━━━━━━━━━━\u001b[0m\u001b[37m\u001b[0m \u001b[1m3s\u001b[0m 13ms/step - accuracy: 0.5935 - loss: 0.6644 - val_accuracy: 0.5212 - val_loss: 0.6844\n",
      "Epoch 2/100\n",
      "\u001b[1m58/58\u001b[0m \u001b[32m━━━━━━━━━━━━━━━━━━━━\u001b[0m\u001b[37m\u001b[0m \u001b[1m1s\u001b[0m 9ms/step - accuracy: 0.6506 - loss: 0.6356 - val_accuracy: 0.5098 - val_loss: 0.6852\n",
      "Epoch 3/100\n",
      "\u001b[1m58/58\u001b[0m \u001b[32m━━━━━━━━━━━━━━━━━━━━\u001b[0m\u001b[37m\u001b[0m \u001b[1m1s\u001b[0m 9ms/step - accuracy: 0.6426 - loss: 0.6259 - val_accuracy: 0.5180 - val_loss: 0.6856\n",
      "Epoch 4/100\n",
      "\u001b[1m58/58\u001b[0m \u001b[32m━━━━━━━━━━━━━━━━━━━━\u001b[0m\u001b[37m\u001b[0m \u001b[1m1s\u001b[0m 8ms/step - accuracy: 0.6461 - loss: 0.6303 - val_accuracy: 0.5196 - val_loss: 0.6832\n",
      "Epoch 5/100\n",
      "\u001b[1m58/58\u001b[0m \u001b[32m━━━━━━━━━━━━━━━━━━━━\u001b[0m\u001b[37m\u001b[0m \u001b[1m1s\u001b[0m 9ms/step - accuracy: 0.6303 - loss: 0.6322 - val_accuracy: 0.5212 - val_loss: 0.6864\n",
      "Epoch 6/100\n",
      "\u001b[1m58/58\u001b[0m \u001b[32m━━━━━━━━━━━━━━━━━━━━\u001b[0m\u001b[37m\u001b[0m \u001b[1m1s\u001b[0m 9ms/step - accuracy: 0.6211 - loss: 0.6287 - val_accuracy: 0.6160 - val_loss: 0.6695\n",
      "Epoch 7/100\n",
      "\u001b[1m58/58\u001b[0m \u001b[32m━━━━━━━━━━━━━━━━━━━━\u001b[0m\u001b[37m\u001b[0m \u001b[1m1s\u001b[0m 9ms/step - accuracy: 0.6292 - loss: 0.6237 - val_accuracy: 0.6716 - val_loss: 0.6302\n",
      "Epoch 8/100\n",
      "\u001b[1m58/58\u001b[0m \u001b[32m━━━━━━━━━━━━━━━━━━━━\u001b[0m\u001b[37m\u001b[0m \u001b[1m1s\u001b[0m 9ms/step - accuracy: 0.6465 - loss: 0.6253 - val_accuracy: 0.6748 - val_loss: 0.6309\n",
      "Epoch 9/100\n",
      "\u001b[1m58/58\u001b[0m \u001b[32m━━━━━━━━━━━━━━━━━━━━\u001b[0m\u001b[37m\u001b[0m \u001b[1m1s\u001b[0m 9ms/step - accuracy: 0.6633 - loss: 0.6123 - val_accuracy: 0.6765 - val_loss: 0.6080\n",
      "Epoch 10/100\n",
      "\u001b[1m58/58\u001b[0m \u001b[32m━━━━━━━━━━━━━━━━━━━━\u001b[0m\u001b[37m\u001b[0m \u001b[1m1s\u001b[0m 9ms/step - accuracy: 0.6622 - loss: 0.6285 - val_accuracy: 0.6716 - val_loss: 0.6074\n",
      "Epoch 11/100\n",
      "\u001b[1m58/58\u001b[0m \u001b[32m━━━━━━━━━━━━━━━━━━━━\u001b[0m\u001b[37m\u001b[0m \u001b[1m1s\u001b[0m 9ms/step - accuracy: 0.6346 - loss: 0.6300 - val_accuracy: 0.6699 - val_loss: 0.6135\n",
      "Epoch 12/100\n",
      "\u001b[1m58/58\u001b[0m \u001b[32m━━━━━━━━━━━━━━━━━━━━\u001b[0m\u001b[37m\u001b[0m \u001b[1m1s\u001b[0m 9ms/step - accuracy: 0.6472 - loss: 0.6245 - val_accuracy: 0.6765 - val_loss: 0.6016\n",
      "Epoch 13/100\n",
      "\u001b[1m58/58\u001b[0m \u001b[32m━━━━━━━━━━━━━━━━━━━━\u001b[0m\u001b[37m\u001b[0m \u001b[1m1s\u001b[0m 9ms/step - accuracy: 0.6347 - loss: 0.6239 - val_accuracy: 0.6765 - val_loss: 0.5991\n",
      "Epoch 14/100\n",
      "\u001b[1m58/58\u001b[0m \u001b[32m━━━━━━━━━━━━━━━━━━━━\u001b[0m\u001b[37m\u001b[0m \u001b[1m1s\u001b[0m 8ms/step - accuracy: 0.6506 - loss: 0.6220 - val_accuracy: 0.6765 - val_loss: 0.5978\n",
      "Epoch 15/100\n",
      "\u001b[1m58/58\u001b[0m \u001b[32m━━━━━━━━━━━━━━━━━━━━\u001b[0m\u001b[37m\u001b[0m \u001b[1m1s\u001b[0m 9ms/step - accuracy: 0.6479 - loss: 0.6138 - val_accuracy: 0.6765 - val_loss: 0.5943\n",
      "Epoch 16/100\n",
      "\u001b[1m58/58\u001b[0m \u001b[32m━━━━━━━━━━━━━━━━━━━━\u001b[0m\u001b[37m\u001b[0m \u001b[1m1s\u001b[0m 9ms/step - accuracy: 0.6341 - loss: 0.6229 - val_accuracy: 0.6765 - val_loss: 0.5937\n",
      "Epoch 17/100\n",
      "\u001b[1m58/58\u001b[0m \u001b[32m━━━━━━━━━━━━━━━━━━━━\u001b[0m\u001b[37m\u001b[0m \u001b[1m1s\u001b[0m 8ms/step - accuracy: 0.6481 - loss: 0.6230 - val_accuracy: 0.6716 - val_loss: 0.6032\n",
      "Epoch 18/100\n",
      "\u001b[1m58/58\u001b[0m \u001b[32m━━━━━━━━━━━━━━━━━━━━\u001b[0m\u001b[37m\u001b[0m \u001b[1m1s\u001b[0m 9ms/step - accuracy: 0.6499 - loss: 0.6144 - val_accuracy: 0.6765 - val_loss: 0.5956\n",
      "Epoch 19/100\n",
      "\u001b[1m58/58\u001b[0m \u001b[32m━━━━━━━━━━━━━━━━━━━━\u001b[0m\u001b[37m\u001b[0m \u001b[1m1s\u001b[0m 9ms/step - accuracy: 0.6499 - loss: 0.6032 - val_accuracy: 0.6667 - val_loss: 0.5991\n",
      "Epoch 20/100\n",
      "\u001b[1m58/58\u001b[0m \u001b[32m━━━━━━━━━━━━━━━━━━━━\u001b[0m\u001b[37m\u001b[0m \u001b[1m1s\u001b[0m 9ms/step - accuracy: 0.6392 - loss: 0.6173 - val_accuracy: 0.6650 - val_loss: 0.5921\n",
      "Epoch 21/100\n",
      "\u001b[1m58/58\u001b[0m \u001b[32m━━━━━━━━━━━━━━━━━━━━\u001b[0m\u001b[37m\u001b[0m \u001b[1m1s\u001b[0m 9ms/step - accuracy: 0.6516 - loss: 0.6090 - val_accuracy: 0.6699 - val_loss: 0.5991\n",
      "Epoch 22/100\n",
      "\u001b[1m58/58\u001b[0m \u001b[32m━━━━━━━━━━━━━━━━━━━━\u001b[0m\u001b[37m\u001b[0m \u001b[1m1s\u001b[0m 9ms/step - accuracy: 0.6614 - loss: 0.6084 - val_accuracy: 0.6765 - val_loss: 0.6011\n",
      "Epoch 23/100\n",
      "\u001b[1m58/58\u001b[0m \u001b[32m━━━━━━━━━━━━━━━━━━━━\u001b[0m\u001b[37m\u001b[0m \u001b[1m1s\u001b[0m 9ms/step - accuracy: 0.6414 - loss: 0.6241 - val_accuracy: 0.6765 - val_loss: 0.5979\n",
      "Epoch 24/100\n",
      "\u001b[1m58/58\u001b[0m \u001b[32m━━━━━━━━━━━━━━━━━━━━\u001b[0m\u001b[37m\u001b[0m \u001b[1m1s\u001b[0m 9ms/step - accuracy: 0.6428 - loss: 0.6073 - val_accuracy: 0.6732 - val_loss: 0.5991\n",
      "Epoch 25/100\n",
      "\u001b[1m58/58\u001b[0m \u001b[32m━━━━━━━━━━━━━━━━━━━━\u001b[0m\u001b[37m\u001b[0m \u001b[1m1s\u001b[0m 8ms/step - accuracy: 0.6454 - loss: 0.6177 - val_accuracy: 0.6683 - val_loss: 0.5959\n",
      "Epoch 26/100\n",
      "\u001b[1m58/58\u001b[0m \u001b[32m━━━━━━━━━━━━━━━━━━━━\u001b[0m\u001b[37m\u001b[0m \u001b[1m1s\u001b[0m 8ms/step - accuracy: 0.6415 - loss: 0.6076 - val_accuracy: 0.6748 - val_loss: 0.5947\n",
      "Epoch 27/100\n",
      "\u001b[1m58/58\u001b[0m \u001b[32m━━━━━━━━━━━━━━━━━━━━\u001b[0m\u001b[37m\u001b[0m \u001b[1m1s\u001b[0m 9ms/step - accuracy: 0.6647 - loss: 0.5974 - val_accuracy: 0.6683 - val_loss: 0.5965\n",
      "Epoch 28/100\n",
      "\u001b[1m58/58\u001b[0m \u001b[32m━━━━━━━━━━━━━━━━━━━━\u001b[0m\u001b[37m\u001b[0m \u001b[1m1s\u001b[0m 8ms/step - accuracy: 0.6560 - loss: 0.5995 - val_accuracy: 0.6650 - val_loss: 0.5975\n",
      "\u001b[1m20/20\u001b[0m \u001b[32m━━━━━━━━━━━━━━━━━━━━\u001b[0m\u001b[37m\u001b[0m \u001b[1m0s\u001b[0m 13ms/step\n",
      "Accuracy: 0.6437908496732027\n",
      "Auc: 0.6481823717298181\n",
      "F1 Score: 0.5198237885462555\n"
     ]
    }
   ],
   "source": [
    "## feature_melspectrogram\n",
    "convrnn_train(X,y)"
   ]
  },
  {
   "cell_type": "code",
   "execution_count": 36,
   "metadata": {},
   "outputs": [
    {
     "name": "stdout",
     "output_type": "stream",
     "text": [
      "Epoch 1/100\n"
     ]
    },
    {
     "name": "stderr",
     "output_type": "stream",
     "text": [
      "C:\\Users\\songy\\AppData\\Local\\Packages\\PythonSoftwareFoundation.Python.3.12_qbz5n2kfra8p0\\LocalCache\\local-packages\\Python312\\site-packages\\keras\\src\\layers\\convolutional\\base_conv.py:99: UserWarning: Do not pass an `input_shape`/`input_dim` argument to a layer. When using Sequential models, prefer using an `Input(shape)` object as the first layer in the model instead.\n",
      "  super().__init__(\n"
     ]
    },
    {
     "name": "stdout",
     "output_type": "stream",
     "text": [
      "\u001b[1m58/58\u001b[0m \u001b[32m━━━━━━━━━━━━━━━━━━━━\u001b[0m\u001b[37m\u001b[0m \u001b[1m4s\u001b[0m 14ms/step - accuracy: 0.6088 - loss: 0.6593 - val_accuracy: 0.6095 - val_loss: 0.6835\n",
      "Epoch 2/100\n",
      "\u001b[1m58/58\u001b[0m \u001b[32m━━━━━━━━━━━━━━━━━━━━\u001b[0m\u001b[37m\u001b[0m \u001b[1m1s\u001b[0m 9ms/step - accuracy: 0.6399 - loss: 0.6315 - val_accuracy: 0.5670 - val_loss: 0.6786\n",
      "Epoch 3/100\n",
      "\u001b[1m58/58\u001b[0m \u001b[32m━━━━━━━━━━━━━━━━━━━━\u001b[0m\u001b[37m\u001b[0m \u001b[1m1s\u001b[0m 9ms/step - accuracy: 0.6358 - loss: 0.6257 - val_accuracy: 0.6111 - val_loss: 0.6703\n",
      "Epoch 4/100\n",
      "\u001b[1m58/58\u001b[0m \u001b[32m━━━━━━━━━━━━━━━━━━━━\u001b[0m\u001b[37m\u001b[0m \u001b[1m1s\u001b[0m 8ms/step - accuracy: 0.6467 - loss: 0.6262 - val_accuracy: 0.6536 - val_loss: 0.6548\n",
      "Epoch 5/100\n",
      "\u001b[1m58/58\u001b[0m \u001b[32m━━━━━━━━━━━━━━━━━━━━\u001b[0m\u001b[37m\u001b[0m \u001b[1m1s\u001b[0m 9ms/step - accuracy: 0.6193 - loss: 0.6298 - val_accuracy: 0.6585 - val_loss: 0.6410\n",
      "Epoch 6/100\n",
      "\u001b[1m58/58\u001b[0m \u001b[32m━━━━━━━━━━━━━━━━━━━━\u001b[0m\u001b[37m\u001b[0m \u001b[1m1s\u001b[0m 9ms/step - accuracy: 0.6427 - loss: 0.6262 - val_accuracy: 0.6699 - val_loss: 0.6263\n",
      "Epoch 7/100\n",
      "\u001b[1m58/58\u001b[0m \u001b[32m━━━━━━━━━━━━━━━━━━━━\u001b[0m\u001b[37m\u001b[0m \u001b[1m1s\u001b[0m 9ms/step - accuracy: 0.6447 - loss: 0.6245 - val_accuracy: 0.6683 - val_loss: 0.6064\n",
      "Epoch 8/100\n",
      "\u001b[1m58/58\u001b[0m \u001b[32m━━━━━━━━━━━━━━━━━━━━\u001b[0m\u001b[37m\u001b[0m \u001b[1m1s\u001b[0m 9ms/step - accuracy: 0.6602 - loss: 0.6175 - val_accuracy: 0.6683 - val_loss: 0.5929\n",
      "Epoch 9/100\n",
      "\u001b[1m58/58\u001b[0m \u001b[32m━━━━━━━━━━━━━━━━━━━━\u001b[0m\u001b[37m\u001b[0m \u001b[1m1s\u001b[0m 9ms/step - accuracy: 0.6291 - loss: 0.6229 - val_accuracy: 0.6765 - val_loss: 0.5841\n",
      "Epoch 10/100\n",
      "\u001b[1m58/58\u001b[0m \u001b[32m━━━━━━━━━━━━━━━━━━━━\u001b[0m\u001b[37m\u001b[0m \u001b[1m1s\u001b[0m 9ms/step - accuracy: 0.6575 - loss: 0.6173 - val_accuracy: 0.6765 - val_loss: 0.5889\n",
      "Epoch 11/100\n",
      "\u001b[1m58/58\u001b[0m \u001b[32m━━━━━━━━━━━━━━━━━━━━\u001b[0m\u001b[37m\u001b[0m \u001b[1m1s\u001b[0m 9ms/step - accuracy: 0.6539 - loss: 0.6200 - val_accuracy: 0.6765 - val_loss: 0.5843\n",
      "Epoch 12/100\n",
      "\u001b[1m58/58\u001b[0m \u001b[32m━━━━━━━━━━━━━━━━━━━━\u001b[0m\u001b[37m\u001b[0m \u001b[1m1s\u001b[0m 9ms/step - accuracy: 0.6519 - loss: 0.6228 - val_accuracy: 0.6797 - val_loss: 0.5844\n",
      "Epoch 13/100\n",
      "\u001b[1m58/58\u001b[0m \u001b[32m━━━━━━━━━━━━━━━━━━━━\u001b[0m\u001b[37m\u001b[0m \u001b[1m1s\u001b[0m 9ms/step - accuracy: 0.6285 - loss: 0.6197 - val_accuracy: 0.6797 - val_loss: 0.5823\n",
      "Epoch 14/100\n",
      "\u001b[1m58/58\u001b[0m \u001b[32m━━━━━━━━━━━━━━━━━━━━\u001b[0m\u001b[37m\u001b[0m \u001b[1m1s\u001b[0m 9ms/step - accuracy: 0.6490 - loss: 0.6051 - val_accuracy: 0.6781 - val_loss: 0.5834\n",
      "Epoch 15/100\n",
      "\u001b[1m58/58\u001b[0m \u001b[32m━━━━━━━━━━━━━━━━━━━━\u001b[0m\u001b[37m\u001b[0m \u001b[1m1s\u001b[0m 9ms/step - accuracy: 0.6416 - loss: 0.6117 - val_accuracy: 0.6699 - val_loss: 0.5855\n",
      "Epoch 16/100\n",
      "\u001b[1m58/58\u001b[0m \u001b[32m━━━━━━━━━━━━━━━━━━━━\u001b[0m\u001b[37m\u001b[0m \u001b[1m1s\u001b[0m 9ms/step - accuracy: 0.6345 - loss: 0.6258 - val_accuracy: 0.6797 - val_loss: 0.5825\n",
      "Epoch 17/100\n",
      "\u001b[1m58/58\u001b[0m \u001b[32m━━━━━━━━━━━━━━━━━━━━\u001b[0m\u001b[37m\u001b[0m \u001b[1m1s\u001b[0m 9ms/step - accuracy: 0.6436 - loss: 0.6165 - val_accuracy: 0.6830 - val_loss: 0.5833\n",
      "Epoch 18/100\n",
      "\u001b[1m58/58\u001b[0m \u001b[32m━━━━━━━━━━━━━━━━━━━━\u001b[0m\u001b[37m\u001b[0m \u001b[1m1s\u001b[0m 9ms/step - accuracy: 0.6617 - loss: 0.6030 - val_accuracy: 0.6650 - val_loss: 0.5824\n",
      "Epoch 19/100\n",
      "\u001b[1m58/58\u001b[0m \u001b[32m━━━━━━━━━━━━━━━━━━━━\u001b[0m\u001b[37m\u001b[0m \u001b[1m1s\u001b[0m 9ms/step - accuracy: 0.6694 - loss: 0.6042 - val_accuracy: 0.6830 - val_loss: 0.5841\n",
      "Epoch 20/100\n",
      "\u001b[1m58/58\u001b[0m \u001b[32m━━━━━━━━━━━━━━━━━━━━\u001b[0m\u001b[37m\u001b[0m \u001b[1m1s\u001b[0m 9ms/step - accuracy: 0.6422 - loss: 0.6115 - val_accuracy: 0.6732 - val_loss: 0.5797\n",
      "Epoch 21/100\n",
      "\u001b[1m58/58\u001b[0m \u001b[32m━━━━━━━━━━━━━━━━━━━━\u001b[0m\u001b[37m\u001b[0m \u001b[1m1s\u001b[0m 9ms/step - accuracy: 0.6415 - loss: 0.6147 - val_accuracy: 0.6716 - val_loss: 0.5863\n",
      "Epoch 22/100\n",
      "\u001b[1m58/58\u001b[0m \u001b[32m━━━━━━━━━━━━━━━━━━━━\u001b[0m\u001b[37m\u001b[0m \u001b[1m1s\u001b[0m 9ms/step - accuracy: 0.6618 - loss: 0.5952 - val_accuracy: 0.6650 - val_loss: 0.5962\n",
      "Epoch 23/100\n",
      "\u001b[1m58/58\u001b[0m \u001b[32m━━━━━━━━━━━━━━━━━━━━\u001b[0m\u001b[37m\u001b[0m \u001b[1m1s\u001b[0m 9ms/step - accuracy: 0.6269 - loss: 0.6210 - val_accuracy: 0.6797 - val_loss: 0.5851\n",
      "Epoch 24/100\n",
      "\u001b[1m58/58\u001b[0m \u001b[32m━━━━━━━━━━━━━━━━━━━━\u001b[0m\u001b[37m\u001b[0m \u001b[1m1s\u001b[0m 9ms/step - accuracy: 0.6422 - loss: 0.6037 - val_accuracy: 0.6503 - val_loss: 0.5850\n",
      "Epoch 25/100\n",
      "\u001b[1m58/58\u001b[0m \u001b[32m━━━━━━━━━━━━━━━━━━━━\u001b[0m\u001b[37m\u001b[0m \u001b[1m1s\u001b[0m 9ms/step - accuracy: 0.6246 - loss: 0.6213 - val_accuracy: 0.6830 - val_loss: 0.5841\n",
      "Epoch 26/100\n",
      "\u001b[1m58/58\u001b[0m \u001b[32m━━━━━━━━━━━━━━━━━━━━\u001b[0m\u001b[37m\u001b[0m \u001b[1m1s\u001b[0m 9ms/step - accuracy: 0.6283 - loss: 0.6177 - val_accuracy: 0.6814 - val_loss: 0.5713\n",
      "Epoch 27/100\n",
      "\u001b[1m58/58\u001b[0m \u001b[32m━━━━━━━━━━━━━━━━━━━━\u001b[0m\u001b[37m\u001b[0m \u001b[1m1s\u001b[0m 9ms/step - accuracy: 0.6517 - loss: 0.6093 - val_accuracy: 0.6748 - val_loss: 0.5821\n",
      "Epoch 28/100\n",
      "\u001b[1m58/58\u001b[0m \u001b[32m━━━━━━━━━━━━━━━━━━━━\u001b[0m\u001b[37m\u001b[0m \u001b[1m1s\u001b[0m 9ms/step - accuracy: 0.6321 - loss: 0.6031 - val_accuracy: 0.6716 - val_loss: 0.5791\n",
      "Epoch 29/100\n",
      "\u001b[1m58/58\u001b[0m \u001b[32m━━━━━━━━━━━━━━━━━━━━\u001b[0m\u001b[37m\u001b[0m \u001b[1m1s\u001b[0m 9ms/step - accuracy: 0.6669 - loss: 0.5974 - val_accuracy: 0.6814 - val_loss: 0.5829\n",
      "Epoch 30/100\n",
      "\u001b[1m58/58\u001b[0m \u001b[32m━━━━━━━━━━━━━━━━━━━━\u001b[0m\u001b[37m\u001b[0m \u001b[1m1s\u001b[0m 9ms/step - accuracy: 0.6449 - loss: 0.6081 - val_accuracy: 0.6503 - val_loss: 0.5847\n",
      "Epoch 31/100\n",
      "\u001b[1m58/58\u001b[0m \u001b[32m━━━━━━━━━━━━━━━━━━━━\u001b[0m\u001b[37m\u001b[0m \u001b[1m1s\u001b[0m 9ms/step - accuracy: 0.6468 - loss: 0.5929 - val_accuracy: 0.6830 - val_loss: 0.5795\n",
      "Epoch 32/100\n",
      "\u001b[1m58/58\u001b[0m \u001b[32m━━━━━━━━━━━━━━━━━━━━\u001b[0m\u001b[37m\u001b[0m \u001b[1m1s\u001b[0m 9ms/step - accuracy: 0.6500 - loss: 0.5986 - val_accuracy: 0.6748 - val_loss: 0.5801\n",
      "Epoch 33/100\n",
      "\u001b[1m58/58\u001b[0m \u001b[32m━━━━━━━━━━━━━━━━━━━━\u001b[0m\u001b[37m\u001b[0m \u001b[1m1s\u001b[0m 9ms/step - accuracy: 0.6427 - loss: 0.5946 - val_accuracy: 0.6797 - val_loss: 0.5771\n",
      "Epoch 34/100\n",
      "\u001b[1m58/58\u001b[0m \u001b[32m━━━━━━━━━━━━━━━━━━━━\u001b[0m\u001b[37m\u001b[0m \u001b[1m1s\u001b[0m 9ms/step - accuracy: 0.6689 - loss: 0.5984 - val_accuracy: 0.6569 - val_loss: 0.5884\n",
      "\u001b[1m20/20\u001b[0m \u001b[32m━━━━━━━━━━━━━━━━━━━━\u001b[0m\u001b[37m\u001b[0m \u001b[1m0s\u001b[0m 14ms/step\n",
      "Accuracy: 0.6405228758169934\n",
      "Auc: 0.6453408253303565\n",
      "F1 Score: 0.4977168949771689\n"
     ]
    }
   ],
   "source": [
    "##   feature_chromagram, \n",
    "acc, auc, f1 = convrnn_train(X,y)"
   ]
  },
  {
   "cell_type": "code",
   "execution_count": 37,
   "metadata": {},
   "outputs": [
    {
     "name": "stdout",
     "output_type": "stream",
     "text": [
      "Epoch 1/100\n"
     ]
    },
    {
     "name": "stderr",
     "output_type": "stream",
     "text": [
      "C:\\Users\\songy\\AppData\\Local\\Packages\\PythonSoftwareFoundation.Python.3.12_qbz5n2kfra8p0\\LocalCache\\local-packages\\Python312\\site-packages\\keras\\src\\layers\\convolutional\\base_conv.py:99: UserWarning: Do not pass an `input_shape`/`input_dim` argument to a layer. When using Sequential models, prefer using an `Input(shape)` object as the first layer in the model instead.\n",
      "  super().__init__(\n"
     ]
    },
    {
     "name": "stdout",
     "output_type": "stream",
     "text": [
      "\u001b[1m58/58\u001b[0m \u001b[32m━━━━━━━━━━━━━━━━━━━━\u001b[0m\u001b[37m\u001b[0m \u001b[1m3s\u001b[0m 13ms/step - accuracy: 0.5980 - loss: 0.6627 - val_accuracy: 0.5196 - val_loss: 0.6866\n",
      "Epoch 2/100\n",
      "\u001b[1m58/58\u001b[0m \u001b[32m━━━━━━━━━━━━━━━━━━━━\u001b[0m\u001b[37m\u001b[0m \u001b[1m1s\u001b[0m 9ms/step - accuracy: 0.6236 - loss: 0.6447 - val_accuracy: 0.5229 - val_loss: 0.6796\n",
      "Epoch 3/100\n",
      "\u001b[1m58/58\u001b[0m \u001b[32m━━━━━━━━━━━━━━━━━━━━\u001b[0m\u001b[37m\u001b[0m \u001b[1m1s\u001b[0m 8ms/step - accuracy: 0.6288 - loss: 0.6351 - val_accuracy: 0.5310 - val_loss: 0.6766\n",
      "Epoch 4/100\n",
      "\u001b[1m58/58\u001b[0m \u001b[32m━━━━━━━━━━━━━━━━━━━━\u001b[0m\u001b[37m\u001b[0m \u001b[1m1s\u001b[0m 9ms/step - accuracy: 0.6314 - loss: 0.6225 - val_accuracy: 0.6046 - val_loss: 0.6695\n",
      "Epoch 5/100\n",
      "\u001b[1m58/58\u001b[0m \u001b[32m━━━━━━━━━━━━━━━━━━━━\u001b[0m\u001b[37m\u001b[0m \u001b[1m1s\u001b[0m 8ms/step - accuracy: 0.6533 - loss: 0.6224 - val_accuracy: 0.6193 - val_loss: 0.6644\n",
      "Epoch 6/100\n",
      "\u001b[1m58/58\u001b[0m \u001b[32m━━━━━━━━━━━━━━━━━━━━\u001b[0m\u001b[37m\u001b[0m \u001b[1m1s\u001b[0m 8ms/step - accuracy: 0.6337 - loss: 0.6346 - val_accuracy: 0.6634 - val_loss: 0.6289\n",
      "Epoch 7/100\n",
      "\u001b[1m58/58\u001b[0m \u001b[32m━━━━━━━━━━━━━━━━━━━━\u001b[0m\u001b[37m\u001b[0m \u001b[1m0s\u001b[0m 8ms/step - accuracy: 0.6393 - loss: 0.6250 - val_accuracy: 0.6683 - val_loss: 0.6005\n",
      "Epoch 8/100\n",
      "\u001b[1m58/58\u001b[0m \u001b[32m━━━━━━━━━━━━━━━━━━━━\u001b[0m\u001b[37m\u001b[0m \u001b[1m1s\u001b[0m 9ms/step - accuracy: 0.6498 - loss: 0.6209 - val_accuracy: 0.6716 - val_loss: 0.5896\n",
      "Epoch 9/100\n",
      "\u001b[1m58/58\u001b[0m \u001b[32m━━━━━━━━━━━━━━━━━━━━\u001b[0m\u001b[37m\u001b[0m \u001b[1m1s\u001b[0m 9ms/step - accuracy: 0.6718 - loss: 0.5991 - val_accuracy: 0.6699 - val_loss: 0.5924\n",
      "Epoch 10/100\n",
      "\u001b[1m58/58\u001b[0m \u001b[32m━━━━━━━━━━━━━━━━━━━━\u001b[0m\u001b[37m\u001b[0m \u001b[1m1s\u001b[0m 9ms/step - accuracy: 0.6325 - loss: 0.6261 - val_accuracy: 0.6781 - val_loss: 0.5900\n",
      "Epoch 11/100\n",
      "\u001b[1m58/58\u001b[0m \u001b[32m━━━━━━━━━━━━━━━━━━━━\u001b[0m\u001b[37m\u001b[0m \u001b[1m1s\u001b[0m 9ms/step - accuracy: 0.6375 - loss: 0.6238 - val_accuracy: 0.6797 - val_loss: 0.5802\n",
      "Epoch 12/100\n",
      "\u001b[1m58/58\u001b[0m \u001b[32m━━━━━━━━━━━━━━━━━━━━\u001b[0m\u001b[37m\u001b[0m \u001b[1m1s\u001b[0m 9ms/step - accuracy: 0.6341 - loss: 0.6308 - val_accuracy: 0.6781 - val_loss: 0.5850\n",
      "Epoch 13/100\n",
      "\u001b[1m58/58\u001b[0m \u001b[32m━━━━━━━━━━━━━━━━━━━━\u001b[0m\u001b[37m\u001b[0m \u001b[1m1s\u001b[0m 9ms/step - accuracy: 0.6592 - loss: 0.6149 - val_accuracy: 0.6601 - val_loss: 0.6077\n",
      "Epoch 14/100\n",
      "\u001b[1m58/58\u001b[0m \u001b[32m━━━━━━━━━━━━━━━━━━━━\u001b[0m\u001b[37m\u001b[0m \u001b[1m1s\u001b[0m 10ms/step - accuracy: 0.6332 - loss: 0.6262 - val_accuracy: 0.6520 - val_loss: 0.6094\n",
      "Epoch 15/100\n",
      "\u001b[1m58/58\u001b[0m \u001b[32m━━━━━━━━━━━━━━━━━━━━\u001b[0m\u001b[37m\u001b[0m \u001b[1m1s\u001b[0m 9ms/step - accuracy: 0.6522 - loss: 0.6142 - val_accuracy: 0.6667 - val_loss: 0.5897\n",
      "Epoch 16/100\n",
      "\u001b[1m58/58\u001b[0m \u001b[32m━━━━━━━━━━━━━━━━━━━━\u001b[0m\u001b[37m\u001b[0m \u001b[1m1s\u001b[0m 12ms/step - accuracy: 0.6331 - loss: 0.6255 - val_accuracy: 0.6732 - val_loss: 0.6049\n",
      "Epoch 17/100\n",
      "\u001b[1m58/58\u001b[0m \u001b[32m━━━━━━━━━━━━━━━━━━━━\u001b[0m\u001b[37m\u001b[0m \u001b[1m1s\u001b[0m 11ms/step - accuracy: 0.6619 - loss: 0.6173 - val_accuracy: 0.6650 - val_loss: 0.5886\n",
      "Epoch 18/100\n",
      "\u001b[1m58/58\u001b[0m \u001b[32m━━━━━━━━━━━━━━━━━━━━\u001b[0m\u001b[37m\u001b[0m \u001b[1m1s\u001b[0m 10ms/step - accuracy: 0.6435 - loss: 0.6114 - val_accuracy: 0.6797 - val_loss: 0.5836\n",
      "Epoch 19/100\n",
      "\u001b[1m58/58\u001b[0m \u001b[32m━━━━━━━━━━━━━━━━━━━━\u001b[0m\u001b[37m\u001b[0m \u001b[1m1s\u001b[0m 9ms/step - accuracy: 0.6629 - loss: 0.6005 - val_accuracy: 0.6716 - val_loss: 0.5838\n",
      "\u001b[1m20/20\u001b[0m \u001b[32m━━━━━━━━━━━━━━━━━━━━\u001b[0m\u001b[37m\u001b[0m \u001b[1m0s\u001b[0m 14ms/step\n",
      "Accuracy: 0.6437908496732027\n",
      "Auc: 0.6486630844665691\n",
      "F1 Score: 0.5\n"
     ]
    },
    {
     "data": {
      "text/plain": [
       "(64.38, 64.87, 50.0)"
      ]
     },
     "execution_count": 37,
     "metadata": {},
     "output_type": "execute_result"
    }
   ],
   "source": [
    "## feature_mfcc\n",
    "convrnn_train(X,y)"
   ]
  }
 ],
 "metadata": {
  "kernelspec": {
   "display_name": "Python 3",
   "language": "python",
   "name": "python3"
  },
  "language_info": {
   "codemirror_mode": {
    "name": "ipython",
    "version": 3
   },
   "file_extension": ".py",
   "mimetype": "text/x-python",
   "name": "python",
   "nbconvert_exporter": "python",
   "pygments_lexer": "ipython3",
   "version": "3.12.3"
  }
 },
 "nbformat": 4,
 "nbformat_minor": 2
}
